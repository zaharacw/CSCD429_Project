{
 "cells": [
  {
   "cell_type": "markdown",
   "metadata": {},
   "source": [
    "# Imports "
   ]
  },
  {
   "cell_type": "code",
   "execution_count": 49,
   "metadata": {},
   "outputs": [],
   "source": [
    "import pandas as pd\n",
    "import time\n",
    "import os\n",
    "import numpy as np\n",
    "import scipy as sp\n",
    "import re\n",
    "from sklearn.feature_extraction import stop_words as stop\n",
    "from sklearn.metrics import roc_auc_score as auroc\n",
    "from sklearn.metrics import confusion_matrix as cm\n",
    "pd.set_option('display.max_colwidth', -1)\n",
    "pd.set_option('display.max_rows', 10)"
   ]
  },
  {
   "cell_type": "markdown",
   "metadata": {},
   "source": [
    "# Functions"
   ]
  },
  {
   "cell_type": "code",
   "execution_count": 2,
   "metadata": {},
   "outputs": [],
   "source": [
    "# used to mostly make the accuracy scores more readable\n",
    "def make_percent(num):\n",
    "    return '%.2f'%(num * 100) + '%'\n",
    "\n",
    "# go through 'columns' of 'df' and replace parts of text based on 'regx' with \"\".\n",
    "# used here to remove syntax from each headline in the dataframe\n",
    "def df_regx_replace(df, columns, regx):\n",
    "    for col in columns:\n",
    "        df[col] = df[col].replace(to_replace = regx, value = \"\", regex = True)\n",
    "        df[col] = df[col].str.lower()\n",
    "    return df\n",
    "        \n",
    "# go through each column and tokenize/un-stop-word it. \n",
    "# used to begin the proccess of text normalization\n",
    "def df_text_analyzer(df, columns, analyzer):\n",
    "    for col in columns:\n",
    "        column = df[col].copy()\n",
    "        for index, val in column.iteritems():\n",
    "            column.loc[index] = analyzer(val)\n",
    "        df[col] = column\n",
    "    return df\n",
    "\n",
    "# remove rows that contain nan values\n",
    "# used to remove 3 rows from this specific data set\n",
    "def df_text_remove_nan(df):\n",
    "    for row_index, row in df.iterrows():\n",
    "        has_nan = False\n",
    "        for index, val in row.iteritems():\n",
    "            if(pd.isnull(val)):\n",
    "                has_nan = True\n",
    "        if (has_nan):\n",
    "            print(\"removed row: \" + str(row_index))\n",
    "            df = df.drop(axis = 0, labels = row_index)\n",
    "    return df\n",
    "\n",
    "# may not be needed\n",
    "# create a single array of all the tokens that occurr in the data set.\n",
    "# df is dataframe of all data, columns is list of column names\n",
    "def df_text_single_array(df, columns):\n",
    "    element_index = 0;\n",
    "    for col in columns:\n",
    "        column = df[col].copy()\n",
    "        col_num = 0\n",
    "        for row_index, row_val in column.iteritems():\n",
    "            for element in row_val:\n",
    "                element_index = element_index + 1\n",
    "    array = np.empty(shape = element_index, dtype = \"S30\")\n",
    "    element_index = 0\n",
    "    for col in columns:\n",
    "        column = df[col].copy()\n",
    "        for row_index, row_val in column.iteritems():\n",
    "            for element in row_val:\n",
    "                array[element_index] = element\n",
    "                element_index = element_index + 1\n",
    "    return array\n",
    "\n",
    "# may not be needed, used to iterate through all cells in a df and transforming with\n",
    "# tfidf transform function. Was having memory? issues.\n",
    "def df_tfidf_transform(df, columns, tfidf):\n",
    "    for col in columns:\n",
    "        column = df[col].copy()\n",
    "        for row_index, row_val in column.iteritems():\n",
    "#             print(tfidf.transform(row_val))\n",
    "            columns.loc[row_index] = tfidf.transform(row_val)\n",
    "            print(columns.iloc[row_index])\n",
    "#         df[col] = column\n",
    "    return df\n",
    "\n",
    "# append all the columns into one column, used to combine columns for aggregate vectorization.\n",
    "def df_concat_str_columns(df, columns):\n",
    "    concat_columns = df['Top1'].copy()\n",
    "    for row_index, row_value in df.iterrows():\n",
    "        single_string = \"\"\n",
    "        for col in columns:\n",
    "            single_string = single_string + \" \" + df[col].loc[row_index]\n",
    "        concat_columns[row_index] = single_string\n",
    "    return concat_columns\n",
    "\n",
    "# print a given confusion matrix\n",
    "def print_confusion(cm):\n",
    "    return\n",
    "\n",
    "def df_concat_str_columns_weighted(df, columns):\n",
    "    concat_columns = df['Top1'].copy()\n",
    "    for row_index, row_value in df.iterrows():\n",
    "        single_string = \"\"\n",
    "        current_weight = 25\n",
    "        for col in columns:\n",
    "            for i in range(current_weight, 0, -1):\n",
    "                single_string = single_string + \" \" + df[col].loc[row_index]\n",
    "            current_weight = current_weight - 1\n",
    "        concat_columns[row_index] = single_string\n",
    "    return concat_columns"
   ]
  },
  {
   "cell_type": "markdown",
   "metadata": {},
   "source": [
    "# Parse The Data\n",
    "Read the data into a dataframe, vectorize the first headline column, and extract the labels column."
   ]
  },
  {
   "cell_type": "markdown",
   "metadata": {},
   "source": [
    "## Import Data"
   ]
  },
  {
   "cell_type": "code",
   "execution_count": 3,
   "metadata": {},
   "outputs": [
    {
     "data": {
      "text/html": [
       "<div>\n",
       "<style scoped>\n",
       "    .dataframe tbody tr th:only-of-type {\n",
       "        vertical-align: middle;\n",
       "    }\n",
       "\n",
       "    .dataframe tbody tr th {\n",
       "        vertical-align: top;\n",
       "    }\n",
       "\n",
       "    .dataframe thead th {\n",
       "        text-align: right;\n",
       "    }\n",
       "</style>\n",
       "<table border=\"1\" class=\"dataframe\">\n",
       "  <thead>\n",
       "    <tr style=\"text-align: right;\">\n",
       "      <th></th>\n",
       "      <th>Date</th>\n",
       "      <th>Label</th>\n",
       "      <th>Top1</th>\n",
       "      <th>Top2</th>\n",
       "      <th>Top3</th>\n",
       "      <th>Top4</th>\n",
       "      <th>Top5</th>\n",
       "      <th>Top6</th>\n",
       "      <th>Top7</th>\n",
       "      <th>Top8</th>\n",
       "      <th>...</th>\n",
       "      <th>Top16</th>\n",
       "      <th>Top17</th>\n",
       "      <th>Top18</th>\n",
       "      <th>Top19</th>\n",
       "      <th>Top20</th>\n",
       "      <th>Top21</th>\n",
       "      <th>Top22</th>\n",
       "      <th>Top23</th>\n",
       "      <th>Top24</th>\n",
       "      <th>Top25</th>\n",
       "    </tr>\n",
       "  </thead>\n",
       "  <tbody>\n",
       "    <tr>\n",
       "      <th>0</th>\n",
       "      <td>2008-08-08</td>\n",
       "      <td>0</td>\n",
       "      <td>b\"Georgia 'downs two Russian warplanes' as countries move to brink of war\"</td>\n",
       "      <td>b'BREAKING: Musharraf to be impeached.'</td>\n",
       "      <td>b'Russia Today: Columns of troops roll into South Ossetia; footage from fighting (YouTube)'</td>\n",
       "      <td>b'Russian tanks are moving towards the capital of South Ossetia, which has reportedly been completely destroyed by Georgian artillery fire'</td>\n",
       "      <td>b\"Afghan children raped with 'impunity,' U.N. official says - this is sick, a three year old was raped and they do nothing\"</td>\n",
       "      <td>b'150 Russian tanks have entered South Ossetia whilst Georgia shoots down two Russian jets.'</td>\n",
       "      <td>b\"Breaking: Georgia invades South Ossetia, Russia warned it would intervene on SO's side\"</td>\n",
       "      <td>b\"The 'enemy combatent' trials are nothing but a sham: Salim Haman has been sentenced to 5 1/2 years, but will be kept longer anyway just because they feel like it.\"</td>\n",
       "      <td>...</td>\n",
       "      <td>b'Georgia Invades South Ossetia - if Russia gets involved, will NATO absorb Georgia and unleash a full scale war?'</td>\n",
       "      <td>b'Al-Qaeda Faces Islamist Backlash'</td>\n",
       "      <td>b'Condoleezza Rice: \"The US would not act to prevent an Israeli strike on Iran.\" Israeli Defense Minister Ehud Barak: \"Israel is prepared for uncompromising victory in the case of military hostilities.\"'</td>\n",
       "      <td>b'This is a busy day:  The European Union has approved new sanctions against Iran in protest at its nuclear programme.'</td>\n",
       "      <td>b\"Georgia will withdraw 1,000 soldiers from Iraq to help fight off Russian forces in Georgia's breakaway region of South Ossetia\"</td>\n",
       "      <td>b'Why the Pentagon Thinks Attacking Iran is a Bad Idea - US News &amp;amp; World Report'</td>\n",
       "      <td>b'Caucasus in crisis: Georgia invades South Ossetia'</td>\n",
       "      <td>b'Indian shoe manufactory  - And again in a series of \"you do not like your work?\"'</td>\n",
       "      <td>b'Visitors Suffering from Mental Illnesses Banned from Olympics'</td>\n",
       "      <td>b\"No Help for Mexico's Kidnapping Surge\"</td>\n",
       "    </tr>\n",
       "    <tr>\n",
       "      <th>1</th>\n",
       "      <td>2008-08-11</td>\n",
       "      <td>1</td>\n",
       "      <td>b'Why wont America and Nato help us? If they wont help us now, why did we help them in Iraq?'</td>\n",
       "      <td>b'Bush puts foot down on Georgian conflict'</td>\n",
       "      <td>b\"Jewish Georgian minister: Thanks to Israeli training, we're fending off Russia \"</td>\n",
       "      <td>b'Georgian army flees in disarray as Russians advance - Gori abandoned to Russia without a shot fired'</td>\n",
       "      <td>b\"Olympic opening ceremony fireworks 'faked'\"</td>\n",
       "      <td>b'What were the Mossad with fraudulent New Zealand Passports doing in Iraq?'</td>\n",
       "      <td>b'Russia angered by Israeli military sale to Georgia'</td>\n",
       "      <td>b'An American citizen living in S.Ossetia blames U.S. and Georgian leaders for the genocide of innocent people'</td>\n",
       "      <td>...</td>\n",
       "      <td>b'Israel and the US behind the Georgian aggression?'</td>\n",
       "      <td>b'\"Do not believe TV, neither Russian nor Georgian. There are much more victims\"'</td>\n",
       "      <td>b'Riots are still going on in Montreal (Canada) because police murdered a boy on Saturday.'</td>\n",
       "      <td>b'China to overtake US as largest manufacturer'</td>\n",
       "      <td>b'War in South Ossetia [PICS]'</td>\n",
       "      <td>b'Israeli Physicians Group Condemns State Torture'</td>\n",
       "      <td>b' Russia has just beaten the United States over the head with Peak Oil'</td>\n",
       "      <td>b'Perhaps *the* question about the Georgia - Russia conflict '</td>\n",
       "      <td>b'Russia is so much better at war'</td>\n",
       "      <td>b\"So this is what it's come to: trading sex for food.\"</td>\n",
       "    </tr>\n",
       "  </tbody>\n",
       "</table>\n",
       "<p>2 rows × 27 columns</p>\n",
       "</div>"
      ],
      "text/plain": [
       "         Date  Label  \\\n",
       "0  2008-08-08  0       \n",
       "1  2008-08-11  1       \n",
       "\n",
       "                                                                                            Top1  \\\n",
       "0  b\"Georgia 'downs two Russian warplanes' as countries move to brink of war\"                      \n",
       "1  b'Why wont America and Nato help us? If they wont help us now, why did we help them in Iraq?'   \n",
       "\n",
       "                                          Top2  \\\n",
       "0  b'BREAKING: Musharraf to be impeached.'       \n",
       "1  b'Bush puts foot down on Georgian conflict'   \n",
       "\n",
       "                                                                                          Top3  \\\n",
       "0  b'Russia Today: Columns of troops roll into South Ossetia; footage from fighting (YouTube)'   \n",
       "1  b\"Jewish Georgian minister: Thanks to Israeli training, we're fending off Russia \"            \n",
       "\n",
       "                                                                                                                                          Top4  \\\n",
       "0  b'Russian tanks are moving towards the capital of South Ossetia, which has reportedly been completely destroyed by Georgian artillery fire'   \n",
       "1  b'Georgian army flees in disarray as Russians advance - Gori abandoned to Russia without a shot fired'                                        \n",
       "\n",
       "                                                                                                                          Top5  \\\n",
       "0  b\"Afghan children raped with 'impunity,' U.N. official says - this is sick, a three year old was raped and they do nothing\"   \n",
       "1  b\"Olympic opening ceremony fireworks 'faked'\"                                                                                 \n",
       "\n",
       "                                                                                           Top6  \\\n",
       "0  b'150 Russian tanks have entered South Ossetia whilst Georgia shoots down two Russian jets.'   \n",
       "1  b'What were the Mossad with fraudulent New Zealand Passports doing in Iraq?'                   \n",
       "\n",
       "                                                                                        Top7  \\\n",
       "0  b\"Breaking: Georgia invades South Ossetia, Russia warned it would intervene on SO's side\"   \n",
       "1  b'Russia angered by Israeli military sale to Georgia'                                       \n",
       "\n",
       "                                                                                                                                                                    Top8  \\\n",
       "0  b\"The 'enemy combatent' trials are nothing but a sham: Salim Haman has been sentenced to 5 1/2 years, but will be kept longer anyway just because they feel like it.\"   \n",
       "1  b'An American citizen living in S.Ossetia blames U.S. and Georgian leaders for the genocide of innocent people'                                                         \n",
       "\n",
       "                            ...                            \\\n",
       "0                           ...                             \n",
       "1                           ...                             \n",
       "\n",
       "                                                                                                                Top16  \\\n",
       "0  b'Georgia Invades South Ossetia - if Russia gets involved, will NATO absorb Georgia and unleash a full scale war?'   \n",
       "1  b'Israel and the US behind the Georgian aggression?'                                                                 \n",
       "\n",
       "                                                                               Top17  \\\n",
       "0  b'Al-Qaeda Faces Islamist Backlash'                                                 \n",
       "1  b'\"Do not believe TV, neither Russian nor Georgian. There are much more victims\"'   \n",
       "\n",
       "                                                                                                                                                                                                         Top18  \\\n",
       "0  b'Condoleezza Rice: \"The US would not act to prevent an Israeli strike on Iran.\" Israeli Defense Minister Ehud Barak: \"Israel is prepared for uncompromising victory in the case of military hostilities.\"'   \n",
       "1  b'Riots are still going on in Montreal (Canada) because police murdered a boy on Saturday.'                                                                                                                   \n",
       "\n",
       "                                                                                                                     Top19  \\\n",
       "0  b'This is a busy day:  The European Union has approved new sanctions against Iran in protest at its nuclear programme.'   \n",
       "1  b'China to overtake US as largest manufacturer'                                                                           \n",
       "\n",
       "                                                                                                                               Top20  \\\n",
       "0  b\"Georgia will withdraw 1,000 soldiers from Iraq to help fight off Russian forces in Georgia's breakaway region of South Ossetia\"   \n",
       "1  b'War in South Ossetia [PICS]'                                                                                                      \n",
       "\n",
       "                                                                                  Top21  \\\n",
       "0  b'Why the Pentagon Thinks Attacking Iran is a Bad Idea - US News &amp; World Report'   \n",
       "1  b'Israeli Physicians Group Condemns State Torture'                                     \n",
       "\n",
       "                                                                      Top22  \\\n",
       "0  b'Caucasus in crisis: Georgia invades South Ossetia'                       \n",
       "1  b' Russia has just beaten the United States over the head with Peak Oil'   \n",
       "\n",
       "                                                                                 Top23  \\\n",
       "0  b'Indian shoe manufactory  - And again in a series of \"you do not like your work?\"'   \n",
       "1  b'Perhaps *the* question about the Georgia - Russia conflict '                        \n",
       "\n",
       "                                                              Top24  \\\n",
       "0  b'Visitors Suffering from Mental Illnesses Banned from Olympics'   \n",
       "1  b'Russia is so much better at war'                                 \n",
       "\n",
       "                                                    Top25  \n",
       "0  b\"No Help for Mexico's Kidnapping Surge\"                \n",
       "1  b\"So this is what it's come to: trading sex for food.\"  \n",
       "\n",
       "[2 rows x 27 columns]"
      ]
     },
     "execution_count": 3,
     "metadata": {},
     "output_type": "execute_result"
    }
   ],
   "source": [
    "data_set = pd.read_csv(\"C:\\\\Users\\\\carmi\\\\OneDrive\\\\Documents\\\\Datasets\\\\stocknews\\\\Combined_News_DJIA.csv\")\n",
    "df_original = pd.DataFrame(data_set)\n",
    "df_original.iloc[0:2]"
   ]
  },
  {
   "cell_type": "markdown",
   "metadata": {},
   "source": [
    "Import the combined dataset, and place it in a dataframe. This dataset has labels with values 0 - indicating the DJIA went down, and 1 - indicating the DJIA went up or stayed the same. The next 27 columns are the top 27 headlines for a given date in ascending order."
   ]
  },
  {
   "cell_type": "markdown",
   "metadata": {},
   "source": [
    "## Clean Data\n",
    "There are a few things we need to do in order to make this data easier to work with. Thankfully, there are no missing values. However, we will want to do some basic text processing in order to get rid of things like stop words, syntax, and more easily vectorize the headlines."
   ]
  },
  {
   "cell_type": "code",
   "execution_count": 4,
   "metadata": {},
   "outputs": [
    {
     "data": {
      "text/html": [
       "<div>\n",
       "<style scoped>\n",
       "    .dataframe tbody tr th:only-of-type {\n",
       "        vertical-align: middle;\n",
       "    }\n",
       "\n",
       "    .dataframe tbody tr th {\n",
       "        vertical-align: top;\n",
       "    }\n",
       "\n",
       "    .dataframe thead th {\n",
       "        text-align: right;\n",
       "    }\n",
       "</style>\n",
       "<table border=\"1\" class=\"dataframe\">\n",
       "  <thead>\n",
       "    <tr style=\"text-align: right;\">\n",
       "      <th></th>\n",
       "      <th>Date</th>\n",
       "      <th>Label</th>\n",
       "      <th>Top1</th>\n",
       "      <th>Top2</th>\n",
       "      <th>Top3</th>\n",
       "      <th>Top4</th>\n",
       "      <th>Top5</th>\n",
       "      <th>Top6</th>\n",
       "      <th>Top7</th>\n",
       "      <th>Top8</th>\n",
       "      <th>...</th>\n",
       "      <th>Top16</th>\n",
       "      <th>Top17</th>\n",
       "      <th>Top18</th>\n",
       "      <th>Top19</th>\n",
       "      <th>Top20</th>\n",
       "      <th>Top21</th>\n",
       "      <th>Top22</th>\n",
       "      <th>Top23</th>\n",
       "      <th>Top24</th>\n",
       "      <th>Top25</th>\n",
       "    </tr>\n",
       "  </thead>\n",
       "  <tbody>\n",
       "    <tr>\n",
       "      <th>0</th>\n",
       "      <td>2008-08-08</td>\n",
       "      <td>0</td>\n",
       "      <td>georgia downs two russian warplanes as countries move to brink of war</td>\n",
       "      <td>breaking musharraf to be impeached</td>\n",
       "      <td>russia today columns of troops roll into south ossetia footage from fighting youtube</td>\n",
       "      <td>russian tanks are moving towards the capital of south ossetia which has reportedly been completely destroyed by georgian artillery fire</td>\n",
       "      <td>afghan children raped with impunity un official says  this is sick a three year old was raped and they do nothing</td>\n",
       "      <td>150 russian tanks have entered south ossetia whilst georgia shoots down two russian jets</td>\n",
       "      <td>breaking georgia invades south ossetia russia warned it would intervene on sos side</td>\n",
       "      <td>the enemy combatent trials are nothing but a sham salim haman has been sentenced to 5 12 years but will be kept longer anyway just because they feel like it</td>\n",
       "      <td>...</td>\n",
       "      <td>georgia invades south ossetia  if russia gets involved will nato absorb georgia and unleash a full scale war</td>\n",
       "      <td>alqaeda faces islamist backlash</td>\n",
       "      <td>condoleezza rice the us would not act to prevent an israeli strike on iran israeli defense minister ehud barak israel is prepared for uncompromising victory in the case of military hostilities</td>\n",
       "      <td>this is a busy day  the european union has approved new sanctions against iran in protest at its nuclear programme</td>\n",
       "      <td>georgia will withdraw 1000 soldiers from iraq to help fight off russian forces in georgias breakaway region of south ossetia</td>\n",
       "      <td>why the pentagon thinks attacking iran is a bad idea  us news &amp;amp world report</td>\n",
       "      <td>caucasus in crisis georgia invades south ossetia</td>\n",
       "      <td>indian shoe manufactory   and again in a series of you do not like your work</td>\n",
       "      <td>visitors suffering from mental illnesses banned from olympics</td>\n",
       "      <td>no help for mexicos kidnapping surge</td>\n",
       "    </tr>\n",
       "    <tr>\n",
       "      <th>1</th>\n",
       "      <td>2008-08-11</td>\n",
       "      <td>1</td>\n",
       "      <td>why wont america and nato help us if they wont help us now why did we help them in iraq</td>\n",
       "      <td>bush puts foot down on georgian conflict</td>\n",
       "      <td>jewish georgian minister thanks to israeli training were fending off russia</td>\n",
       "      <td>georgian army flees in disarray as russians advance  gori abandoned to russia without a shot fired</td>\n",
       "      <td>olympic opening ceremony fireworks faked</td>\n",
       "      <td>what were the mossad with fraudulent new zealand passports doing in iraq</td>\n",
       "      <td>russia angered by israeli military sale to georgia</td>\n",
       "      <td>an american citizen living in sossetia blames us and georgian leaders for the genocide of innocent people</td>\n",
       "      <td>...</td>\n",
       "      <td>israel and the us behind the georgian aggression</td>\n",
       "      <td>do not believe tv neither russian nor georgian there are much more victims</td>\n",
       "      <td>riots are still going on in montreal canada because police murdered a boy on saturday</td>\n",
       "      <td>china to overtake us as largest manufacturer</td>\n",
       "      <td>war in south ossetia pics</td>\n",
       "      <td>israeli physicians group condemns state torture</td>\n",
       "      <td>russia has just beaten the united states over the head with peak oil</td>\n",
       "      <td>perhaps the question about the georgia  russia conflict</td>\n",
       "      <td>russia is so much better at war</td>\n",
       "      <td>so this is what its come to trading sex for food</td>\n",
       "    </tr>\n",
       "  </tbody>\n",
       "</table>\n",
       "<p>2 rows × 27 columns</p>\n",
       "</div>"
      ],
      "text/plain": [
       "         Date  Label  \\\n",
       "0  2008-08-08  0       \n",
       "1  2008-08-11  1       \n",
       "\n",
       "                                                                                      Top1  \\\n",
       "0  georgia downs two russian warplanes as countries move to brink of war                     \n",
       "1  why wont america and nato help us if they wont help us now why did we help them in iraq   \n",
       "\n",
       "                                       Top2  \\\n",
       "0  breaking musharraf to be impeached         \n",
       "1  bush puts foot down on georgian conflict   \n",
       "\n",
       "                                                                                   Top3  \\\n",
       "0  russia today columns of troops roll into south ossetia footage from fighting youtube   \n",
       "1  jewish georgian minister thanks to israeli training were fending off russia            \n",
       "\n",
       "                                                                                                                                      Top4  \\\n",
       "0  russian tanks are moving towards the capital of south ossetia which has reportedly been completely destroyed by georgian artillery fire   \n",
       "1  georgian army flees in disarray as russians advance  gori abandoned to russia without a shot fired                                        \n",
       "\n",
       "                                                                                                                Top5  \\\n",
       "0  afghan children raped with impunity un official says  this is sick a three year old was raped and they do nothing   \n",
       "1  olympic opening ceremony fireworks faked                                                                            \n",
       "\n",
       "                                                                                       Top6  \\\n",
       "0  150 russian tanks have entered south ossetia whilst georgia shoots down two russian jets   \n",
       "1  what were the mossad with fraudulent new zealand passports doing in iraq                   \n",
       "\n",
       "                                                                                  Top7  \\\n",
       "0  breaking georgia invades south ossetia russia warned it would intervene on sos side   \n",
       "1  russia angered by israeli military sale to georgia                                    \n",
       "\n",
       "                                                                                                                                                           Top8  \\\n",
       "0  the enemy combatent trials are nothing but a sham salim haman has been sentenced to 5 12 years but will be kept longer anyway just because they feel like it   \n",
       "1  an american citizen living in sossetia blames us and georgian leaders for the genocide of innocent people                                                      \n",
       "\n",
       "                         ...                         \\\n",
       "0                        ...                          \n",
       "1                        ...                          \n",
       "\n",
       "                                                                                                          Top16  \\\n",
       "0  georgia invades south ossetia  if russia gets involved will nato absorb georgia and unleash a full scale war   \n",
       "1  israel and the us behind the georgian aggression                                                               \n",
       "\n",
       "                                                                        Top17  \\\n",
       "0  alqaeda faces islamist backlash                                              \n",
       "1  do not believe tv neither russian nor georgian there are much more victims   \n",
       "\n",
       "                                                                                                                                                                                              Top18  \\\n",
       "0  condoleezza rice the us would not act to prevent an israeli strike on iran israeli defense minister ehud barak israel is prepared for uncompromising victory in the case of military hostilities   \n",
       "1  riots are still going on in montreal canada because police murdered a boy on saturday                                                                                                              \n",
       "\n",
       "                                                                                                                Top19  \\\n",
       "0  this is a busy day  the european union has approved new sanctions against iran in protest at its nuclear programme   \n",
       "1  china to overtake us as largest manufacturer                                                                         \n",
       "\n",
       "                                                                                                                          Top20  \\\n",
       "0  georgia will withdraw 1000 soldiers from iraq to help fight off russian forces in georgias breakaway region of south ossetia   \n",
       "1  war in south ossetia pics                                                                                                      \n",
       "\n",
       "                                                                             Top21  \\\n",
       "0  why the pentagon thinks attacking iran is a bad idea  us news &amp world report   \n",
       "1  israeli physicians group condemns state torture                                   \n",
       "\n",
       "                                                                   Top22  \\\n",
       "0  caucasus in crisis georgia invades south ossetia                        \n",
       "1   russia has just beaten the united states over the head with peak oil   \n",
       "\n",
       "                                                                          Top23  \\\n",
       "0  indian shoe manufactory   and again in a series of you do not like your work   \n",
       "1  perhaps the question about the georgia  russia conflict                        \n",
       "\n",
       "                                                           Top24  \\\n",
       "0  visitors suffering from mental illnesses banned from olympics   \n",
       "1  russia is so much better at war                                 \n",
       "\n",
       "                                              Top25  \n",
       "0  no help for mexicos kidnapping surge              \n",
       "1  so this is what its come to trading sex for food  \n",
       "\n",
       "[2 rows x 27 columns]"
      ]
     },
     "execution_count": 4,
     "metadata": {},
     "output_type": "execute_result"
    }
   ],
   "source": [
    "columns = df_original.iloc[:, 2:]\n",
    "regx = \"[/\\-_\\+=\\*,\\.\\\"\\'()!\\?@#$%\\^;:\\[\\]]|^b[\\'\\\"]*\"\n",
    "# regx = \"[\\s\\W*|\\W\\s*]\"\n",
    "df_no_syntax = df_regx_replace(df_original, columns, regx)\n",
    "df_no_syntax.iloc[0:2]"
   ]
  },
  {
   "cell_type": "markdown",
   "metadata": {},
   "source": [
    "Removed all puncation/syntax, and lowercased each headline for easier parasing."
   ]
  },
  {
   "cell_type": "code",
   "execution_count": 5,
   "metadata": {},
   "outputs": [
    {
     "name": "stdout",
     "output_type": "stream",
     "text": [
      "removed row: 277\n",
      "removed row: 348\n",
      "removed row: 681\n"
     ]
    },
    {
     "data": {
      "text/html": [
       "<div>\n",
       "<style scoped>\n",
       "    .dataframe tbody tr th:only-of-type {\n",
       "        vertical-align: middle;\n",
       "    }\n",
       "\n",
       "    .dataframe tbody tr th {\n",
       "        vertical-align: top;\n",
       "    }\n",
       "\n",
       "    .dataframe thead th {\n",
       "        text-align: right;\n",
       "    }\n",
       "</style>\n",
       "<table border=\"1\" class=\"dataframe\">\n",
       "  <thead>\n",
       "    <tr style=\"text-align: right;\">\n",
       "      <th></th>\n",
       "      <th>Date</th>\n",
       "      <th>Label</th>\n",
       "      <th>Top1</th>\n",
       "      <th>Top2</th>\n",
       "      <th>Top3</th>\n",
       "      <th>Top4</th>\n",
       "      <th>Top5</th>\n",
       "      <th>Top6</th>\n",
       "      <th>Top7</th>\n",
       "      <th>Top8</th>\n",
       "      <th>...</th>\n",
       "      <th>Top16</th>\n",
       "      <th>Top17</th>\n",
       "      <th>Top18</th>\n",
       "      <th>Top19</th>\n",
       "      <th>Top20</th>\n",
       "      <th>Top21</th>\n",
       "      <th>Top22</th>\n",
       "      <th>Top23</th>\n",
       "      <th>Top24</th>\n",
       "      <th>Top25</th>\n",
       "    </tr>\n",
       "  </thead>\n",
       "  <tbody>\n",
       "    <tr>\n",
       "      <th>0</th>\n",
       "      <td>2008-08-08</td>\n",
       "      <td>0</td>\n",
       "      <td>georgia downs two russian warplanes as countries move to brink of war</td>\n",
       "      <td>breaking musharraf to be impeached</td>\n",
       "      <td>russia today columns of troops roll into south ossetia footage from fighting youtube</td>\n",
       "      <td>russian tanks are moving towards the capital of south ossetia which has reportedly been completely destroyed by georgian artillery fire</td>\n",
       "      <td>afghan children raped with impunity un official says  this is sick a three year old was raped and they do nothing</td>\n",
       "      <td>150 russian tanks have entered south ossetia whilst georgia shoots down two russian jets</td>\n",
       "      <td>breaking georgia invades south ossetia russia warned it would intervene on sos side</td>\n",
       "      <td>the enemy combatent trials are nothing but a sham salim haman has been sentenced to 5 12 years but will be kept longer anyway just because they feel like it</td>\n",
       "      <td>...</td>\n",
       "      <td>georgia invades south ossetia  if russia gets involved will nato absorb georgia and unleash a full scale war</td>\n",
       "      <td>alqaeda faces islamist backlash</td>\n",
       "      <td>condoleezza rice the us would not act to prevent an israeli strike on iran israeli defense minister ehud barak israel is prepared for uncompromising victory in the case of military hostilities</td>\n",
       "      <td>this is a busy day  the european union has approved new sanctions against iran in protest at its nuclear programme</td>\n",
       "      <td>georgia will withdraw 1000 soldiers from iraq to help fight off russian forces in georgias breakaway region of south ossetia</td>\n",
       "      <td>why the pentagon thinks attacking iran is a bad idea  us news &amp;amp world report</td>\n",
       "      <td>caucasus in crisis georgia invades south ossetia</td>\n",
       "      <td>indian shoe manufactory   and again in a series of you do not like your work</td>\n",
       "      <td>visitors suffering from mental illnesses banned from olympics</td>\n",
       "      <td>no help for mexicos kidnapping surge</td>\n",
       "    </tr>\n",
       "    <tr>\n",
       "      <th>1</th>\n",
       "      <td>2008-08-11</td>\n",
       "      <td>1</td>\n",
       "      <td>why wont america and nato help us if they wont help us now why did we help them in iraq</td>\n",
       "      <td>bush puts foot down on georgian conflict</td>\n",
       "      <td>jewish georgian minister thanks to israeli training were fending off russia</td>\n",
       "      <td>georgian army flees in disarray as russians advance  gori abandoned to russia without a shot fired</td>\n",
       "      <td>olympic opening ceremony fireworks faked</td>\n",
       "      <td>what were the mossad with fraudulent new zealand passports doing in iraq</td>\n",
       "      <td>russia angered by israeli military sale to georgia</td>\n",
       "      <td>an american citizen living in sossetia blames us and georgian leaders for the genocide of innocent people</td>\n",
       "      <td>...</td>\n",
       "      <td>israel and the us behind the georgian aggression</td>\n",
       "      <td>do not believe tv neither russian nor georgian there are much more victims</td>\n",
       "      <td>riots are still going on in montreal canada because police murdered a boy on saturday</td>\n",
       "      <td>china to overtake us as largest manufacturer</td>\n",
       "      <td>war in south ossetia pics</td>\n",
       "      <td>israeli physicians group condemns state torture</td>\n",
       "      <td>russia has just beaten the united states over the head with peak oil</td>\n",
       "      <td>perhaps the question about the georgia  russia conflict</td>\n",
       "      <td>russia is so much better at war</td>\n",
       "      <td>so this is what its come to trading sex for food</td>\n",
       "    </tr>\n",
       "  </tbody>\n",
       "</table>\n",
       "<p>2 rows × 27 columns</p>\n",
       "</div>"
      ],
      "text/plain": [
       "         Date  Label  \\\n",
       "0  2008-08-08  0       \n",
       "1  2008-08-11  1       \n",
       "\n",
       "                                                                                      Top1  \\\n",
       "0  georgia downs two russian warplanes as countries move to brink of war                     \n",
       "1  why wont america and nato help us if they wont help us now why did we help them in iraq   \n",
       "\n",
       "                                       Top2  \\\n",
       "0  breaking musharraf to be impeached         \n",
       "1  bush puts foot down on georgian conflict   \n",
       "\n",
       "                                                                                   Top3  \\\n",
       "0  russia today columns of troops roll into south ossetia footage from fighting youtube   \n",
       "1  jewish georgian minister thanks to israeli training were fending off russia            \n",
       "\n",
       "                                                                                                                                      Top4  \\\n",
       "0  russian tanks are moving towards the capital of south ossetia which has reportedly been completely destroyed by georgian artillery fire   \n",
       "1  georgian army flees in disarray as russians advance  gori abandoned to russia without a shot fired                                        \n",
       "\n",
       "                                                                                                                Top5  \\\n",
       "0  afghan children raped with impunity un official says  this is sick a three year old was raped and they do nothing   \n",
       "1  olympic opening ceremony fireworks faked                                                                            \n",
       "\n",
       "                                                                                       Top6  \\\n",
       "0  150 russian tanks have entered south ossetia whilst georgia shoots down two russian jets   \n",
       "1  what were the mossad with fraudulent new zealand passports doing in iraq                   \n",
       "\n",
       "                                                                                  Top7  \\\n",
       "0  breaking georgia invades south ossetia russia warned it would intervene on sos side   \n",
       "1  russia angered by israeli military sale to georgia                                    \n",
       "\n",
       "                                                                                                                                                           Top8  \\\n",
       "0  the enemy combatent trials are nothing but a sham salim haman has been sentenced to 5 12 years but will be kept longer anyway just because they feel like it   \n",
       "1  an american citizen living in sossetia blames us and georgian leaders for the genocide of innocent people                                                      \n",
       "\n",
       "                         ...                         \\\n",
       "0                        ...                          \n",
       "1                        ...                          \n",
       "\n",
       "                                                                                                          Top16  \\\n",
       "0  georgia invades south ossetia  if russia gets involved will nato absorb georgia and unleash a full scale war   \n",
       "1  israel and the us behind the georgian aggression                                                               \n",
       "\n",
       "                                                                        Top17  \\\n",
       "0  alqaeda faces islamist backlash                                              \n",
       "1  do not believe tv neither russian nor georgian there are much more victims   \n",
       "\n",
       "                                                                                                                                                                                              Top18  \\\n",
       "0  condoleezza rice the us would not act to prevent an israeli strike on iran israeli defense minister ehud barak israel is prepared for uncompromising victory in the case of military hostilities   \n",
       "1  riots are still going on in montreal canada because police murdered a boy on saturday                                                                                                              \n",
       "\n",
       "                                                                                                                Top19  \\\n",
       "0  this is a busy day  the european union has approved new sanctions against iran in protest at its nuclear programme   \n",
       "1  china to overtake us as largest manufacturer                                                                         \n",
       "\n",
       "                                                                                                                          Top20  \\\n",
       "0  georgia will withdraw 1000 soldiers from iraq to help fight off russian forces in georgias breakaway region of south ossetia   \n",
       "1  war in south ossetia pics                                                                                                      \n",
       "\n",
       "                                                                             Top21  \\\n",
       "0  why the pentagon thinks attacking iran is a bad idea  us news &amp world report   \n",
       "1  israeli physicians group condemns state torture                                   \n",
       "\n",
       "                                                                   Top22  \\\n",
       "0  caucasus in crisis georgia invades south ossetia                        \n",
       "1   russia has just beaten the united states over the head with peak oil   \n",
       "\n",
       "                                                                          Top23  \\\n",
       "0  indian shoe manufactory   and again in a series of you do not like your work   \n",
       "1  perhaps the question about the georgia  russia conflict                        \n",
       "\n",
       "                                                           Top24  \\\n",
       "0  visitors suffering from mental illnesses banned from olympics   \n",
       "1  russia is so much better at war                                 \n",
       "\n",
       "                                              Top25  \n",
       "0  no help for mexicos kidnapping surge              \n",
       "1  so this is what its come to trading sex for food  \n",
       "\n",
       "[2 rows x 27 columns]"
      ]
     },
     "execution_count": 5,
     "metadata": {},
     "output_type": "execute_result"
    }
   ],
   "source": [
    "df_no_nan = df_text_remove_nan(df_no_syntax)\n",
    "df_no_nan.iloc[0:2]"
   ]
  },
  {
   "cell_type": "markdown",
   "metadata": {},
   "source": [
    "Remove any rows that contain nan values in the columns."
   ]
  },
  {
   "cell_type": "markdown",
   "metadata": {},
   "source": [
    "# Baseline Accuracy \n",
    "To quickly get a baseline accuracy, combining the columns seems to be the simplest way to get a vectorized data set for classification input. We will do more nuanced vectorization and classification after getting a baseline for this dataset."
   ]
  },
  {
   "cell_type": "markdown",
   "metadata": {},
   "source": [
    "## Combine Columns"
   ]
  },
  {
   "cell_type": "code",
   "execution_count": 6,
   "metadata": {},
   "outputs": [
    {
     "data": {
      "text/plain": [
       "Top1     georgia downs two russian warplanes as countries move to brink of war breaking musharraf to be impeached russia today columns of troops roll into south ossetia footage from fighting youtube russian tanks are moving towards the capital of south ossetia which has reportedly been completely destroyed by georgian artillery fire afghan children raped with impunity un official says  this is sick a three year old was raped and they do nothing 150 russian tanks have entered south ossetia whilst georgia shoots down two russian jets breaking georgia invades south ossetia russia warned it would intervene on sos side the enemy combatent trials are nothing but a sham salim haman has been sentenced to 5 12 years but will be kept longer anyway just because they feel like it georgian troops retreat from s osettain capital presumably leaving several hundred people killed video did the us prep georgia for war with russia rice gives green light for israel to attack iran says us has no veto over israeli military ops announcingclass action lawsuit on behalf of american public against the fbi sorussia and georgia are at war and the nyts top story is opening ceremonies of the olympics  what a fucking disgrace and yet further proof of the decline of journalism china tells bush to stay out of other countries affairs did world war iii start today georgia invades south ossetia  if russia gets involved will nato absorb georgia and unleash a full scale war alqaeda faces islamist backlash condoleezza rice the us would not act to prevent an israeli strike on iran israeli defense minister ehud barak israel is prepared for uncompromising victory in the case of military hostilities this is a busy day  the european union has approved new sanctions against iran in protest at its nuclear programme georgia will withdraw 1000 soldiers from iraq to help fight off russian forces in georgias breakaway region of south ossetia why the pentagon thinks attacking iran is a bad idea  us news &amp world report caucasus in crisis georgia invades south ossetia indian shoe manufactory   and again in a series of you do not like your work visitors suffering from mental illnesses banned from olympics no help for mexicos kidnapping surge\n",
       "Name: 0, dtype: object"
      ]
     },
     "execution_count": 6,
     "metadata": {},
     "output_type": "execute_result"
    }
   ],
   "source": [
    "df = df_no_nan\n",
    "columns = df.iloc[:, 2:]\n",
    "concat_column = df_concat_str_columns(df, columns)\n",
    "concat_column = pd.DataFrame(concat_column)\n",
    "concat_column.iloc[0]"
   ]
  },
  {
   "cell_type": "markdown",
   "metadata": {},
   "source": [
    "Concatenate all the headlines into one corpus to be vectorized in a tdidf/word count vectorizer"
   ]
  },
  {
   "cell_type": "code",
   "execution_count": 7,
   "metadata": {},
   "outputs": [
    {
     "data": {
      "text/html": [
       "<div>\n",
       "<style scoped>\n",
       "    .dataframe tbody tr th:only-of-type {\n",
       "        vertical-align: middle;\n",
       "    }\n",
       "\n",
       "    .dataframe tbody tr th {\n",
       "        vertical-align: top;\n",
       "    }\n",
       "\n",
       "    .dataframe thead th {\n",
       "        text-align: right;\n",
       "    }\n",
       "</style>\n",
       "<table border=\"1\" class=\"dataframe\">\n",
       "  <thead>\n",
       "    <tr style=\"text-align: right;\">\n",
       "      <th></th>\n",
       "      <th>Date</th>\n",
       "      <th>Label</th>\n",
       "      <th>Top1</th>\n",
       "    </tr>\n",
       "  </thead>\n",
       "  <tbody>\n",
       "    <tr>\n",
       "      <th>0</th>\n",
       "      <td>2008-08-08</td>\n",
       "      <td>0</td>\n",
       "      <td>georgia downs two russian warplanes as countries move to brink of war breaking musharraf to be impeached russia today columns of troops roll into south ossetia footage from fighting youtube russian tanks are moving towards the capital of south ossetia which has reportedly been completely destroyed by georgian artillery fire afghan children raped with impunity un official says  this is sick a three year old was raped and they do nothing 150 russian tanks have entered south ossetia whilst georgia shoots down two russian jets breaking georgia invades south ossetia russia warned it would intervene on sos side the enemy combatent trials are nothing but a sham salim haman has been sentenced to 5 12 years but will be kept longer anyway just because they feel like it georgian troops retreat from s osettain capital presumably leaving several hundred people killed video did the us prep georgia for war with russia rice gives green light for israel to attack iran says us has no veto over israeli military ops announcingclass action lawsuit on behalf of american public against the fbi sorussia and georgia are at war and the nyts top story is opening ceremonies of the olympics  what a fucking disgrace and yet further proof of the decline of journalism china tells bush to stay out of other countries affairs did world war iii start today georgia invades south ossetia  if russia gets involved will nato absorb georgia and unleash a full scale war alqaeda faces islamist backlash condoleezza rice the us would not act to prevent an israeli strike on iran israeli defense minister ehud barak israel is prepared for uncompromising victory in the case of military hostilities this is a busy day  the european union has approved new sanctions against iran in protest at its nuclear programme georgia will withdraw 1000 soldiers from iraq to help fight off russian forces in georgias breakaway region of south ossetia why the pentagon thinks attacking iran is a bad idea  us news &amp;amp world report caucasus in crisis georgia invades south ossetia indian shoe manufactory   and again in a series of you do not like your work visitors suffering from mental illnesses banned from olympics no help for mexicos kidnapping surge</td>\n",
       "    </tr>\n",
       "    <tr>\n",
       "      <th>1</th>\n",
       "      <td>2008-08-11</td>\n",
       "      <td>1</td>\n",
       "      <td>why wont america and nato help us if they wont help us now why did we help them in iraq bush puts foot down on georgian conflict jewish georgian minister thanks to israeli training were fending off russia  georgian army flees in disarray as russians advance  gori abandoned to russia without a shot fired olympic opening ceremony fireworks faked what were the mossad with fraudulent new zealand passports doing in iraq russia angered by israeli military sale to georgia an american citizen living in sossetia blames us and georgian leaders for the genocide of innocent people welcome to world war iv now in high definition georgias move a mistake of monumental proportions  russia presses deeper into georgia us says regime change is goal abhinav bindra wins first ever individual olympic gold medal for india  us ship heads for arctic to define territory drivers in a jerusalem taxi station threaten to quit rather than work for their new boss  an arab the french team is stunned by phelps and the 4x100m relay team israel and the us behind the georgian aggression do not believe tv neither russian nor georgian there are much more victims riots are still going on in montreal canada because police murdered a boy on saturday china to overtake us as largest manufacturer war in south ossetia pics israeli physicians group condemns state torture  russia has just beaten the united states over the head with peak oil perhaps the question about the georgia  russia conflict  russia is so much better at war so this is what its come to trading sex for food</td>\n",
       "    </tr>\n",
       "  </tbody>\n",
       "</table>\n",
       "</div>"
      ],
      "text/plain": [
       "         Date  Label  \\\n",
       "0  2008-08-08  0       \n",
       "1  2008-08-11  1       \n",
       "\n",
       "                                                                                                                                                                                                                                                                                                                                                                                                                                                                                                                                                                                                                                                                                                                                                                                                                                                                                                                                                                                                                                                                                                                                                                                                                                                                                                                                                                                                                                                                                                                                                                                                                                                                                                                                                                                                                                                                                                                                                                                                                                                                                                                                                                                                                                                                                                             Top1  \n",
       "0   georgia downs two russian warplanes as countries move to brink of war breaking musharraf to be impeached russia today columns of troops roll into south ossetia footage from fighting youtube russian tanks are moving towards the capital of south ossetia which has reportedly been completely destroyed by georgian artillery fire afghan children raped with impunity un official says  this is sick a three year old was raped and they do nothing 150 russian tanks have entered south ossetia whilst georgia shoots down two russian jets breaking georgia invades south ossetia russia warned it would intervene on sos side the enemy combatent trials are nothing but a sham salim haman has been sentenced to 5 12 years but will be kept longer anyway just because they feel like it georgian troops retreat from s osettain capital presumably leaving several hundred people killed video did the us prep georgia for war with russia rice gives green light for israel to attack iran says us has no veto over israeli military ops announcingclass action lawsuit on behalf of american public against the fbi sorussia and georgia are at war and the nyts top story is opening ceremonies of the olympics  what a fucking disgrace and yet further proof of the decline of journalism china tells bush to stay out of other countries affairs did world war iii start today georgia invades south ossetia  if russia gets involved will nato absorb georgia and unleash a full scale war alqaeda faces islamist backlash condoleezza rice the us would not act to prevent an israeli strike on iran israeli defense minister ehud barak israel is prepared for uncompromising victory in the case of military hostilities this is a busy day  the european union has approved new sanctions against iran in protest at its nuclear programme georgia will withdraw 1000 soldiers from iraq to help fight off russian forces in georgias breakaway region of south ossetia why the pentagon thinks attacking iran is a bad idea  us news &amp world report caucasus in crisis georgia invades south ossetia indian shoe manufactory   and again in a series of you do not like your work visitors suffering from mental illnesses banned from olympics no help for mexicos kidnapping surge  \n",
       "1   why wont america and nato help us if they wont help us now why did we help them in iraq bush puts foot down on georgian conflict jewish georgian minister thanks to israeli training were fending off russia  georgian army flees in disarray as russians advance  gori abandoned to russia without a shot fired olympic opening ceremony fireworks faked what were the mossad with fraudulent new zealand passports doing in iraq russia angered by israeli military sale to georgia an american citizen living in sossetia blames us and georgian leaders for the genocide of innocent people welcome to world war iv now in high definition georgias move a mistake of monumental proportions  russia presses deeper into georgia us says regime change is goal abhinav bindra wins first ever individual olympic gold medal for india  us ship heads for arctic to define territory drivers in a jerusalem taxi station threaten to quit rather than work for their new boss  an arab the french team is stunned by phelps and the 4x100m relay team israel and the us behind the georgian aggression do not believe tv neither russian nor georgian there are much more victims riots are still going on in montreal canada because police murdered a boy on saturday china to overtake us as largest manufacturer war in south ossetia pics israeli physicians group condemns state torture  russia has just beaten the united states over the head with peak oil perhaps the question about the georgia  russia conflict  russia is so much better at war so this is what its come to trading sex for food                                                                                                                                                                                                                                                                                                                                                                                                                                                                                                                                                                                                                                                                                              "
      ]
     },
     "execution_count": 7,
     "metadata": {},
     "output_type": "execute_result"
    }
   ],
   "source": [
    "df_no_col = df.drop(labels = columns.columns, axis = 1)\n",
    "df_concat = pd.concat([df_no_col, concat_column], axis = 1)\n",
    "df_concat.iloc[0:2]"
   ]
  },
  {
   "cell_type": "markdown",
   "metadata": {},
   "source": [
    "Remove redundant, non-combined columns and append the new concatenated column onto the existing dataframe with labels."
   ]
  },
  {
   "cell_type": "markdown",
   "metadata": {},
   "source": [
    "## Vectorize Data "
   ]
  },
  {
   "cell_type": "code",
   "execution_count": 8,
   "metadata": {},
   "outputs": [
    {
     "name": "stdout",
     "output_type": "stream",
     "text": [
      "['000', '0001', '001', '003', '004', '005', '006', '007', '0077', '00s', '01', '011', '014', '014ckwh', '017', '02', '0200', '021hour', '022', '0220', '0221', '025', '03', '030', '035017', '04', '05', '050', '05eurgb', '06', '060', '062', '068as', '07', '07232014', '075', '07baku1268', '07pc', '08', '089m', '08baku671', '09', '0900', '0930', '0935', '10', '100', '1000', '10000', '100000', '1000000', '1000000000', '100000man', '100000person', '100000th', '10000s', '10000strong', '10000yearold', '10001500', '1000km', '1000megawatt', '1000per', '1000s', '1000strong', '1000x', '1000year', '1000yearold', '100200', '1004', '1004am', '1006', '100abarrel', '100apack', '100billion', '100bn', '100day', '100ds', '100fold', '100foot', '100ft', '100k', '100km', '100m', '100mil', '100million', '100mstretch', '100mw', '100page', '100s', '100th', '100x', '100year', '100yearold', '101', '1011', '1012', '1017', '101st', '102', '1020', '102000', '1021', '10262010', '102day', '102yearold', '103', '1030', '10300', '1035', '1038', '104', '104000', '1044', '104m', '105', '1050', '1051pm', '1054', '1055', '105carat', '105k', '106', '1060', '106000', '1061c', '107', '10700', '107000', '108', '108000', '1083', '108f', '108meter', '109', '1094', '10barrel', '10bars', '10billion', '10bn', '10cm', '10day', '10fold', '10foot', '10gw', '10in', '10k', '10kg', '10km', '10kmdown', '10m', '10million', '10month', '10s', '10sided', '10story', '10th', '10thcentury', '10weeksold', '10x', '10year', '10yearold', '10yr', '10yrs', '11', '110', '1100', '11000', '110000', '11000yearold', '1100am', '1100room', '1105', '110bn', '110m', '110th', '110year', '111', '11109', '1111', '111111', '1117', '1118', '1119', '111bn', '111yearold', '112', '1120', '112000', '1122000', '1125', '11253', '1126', '1127', '11277', '113', '1130', '1135', '113bn', '114', '11417', '1142', '1143', '1147', '114billion', '114yrold', '115', '1150', '11500', '115000', '11500l', '11506', '1155', '11571', '115bn', '115m', '116', '116bn', '117', '1172013', '11721000000000000', '1175', '117k', '117yearold', '119', '119000', '1193', '119th', '11b', '11bn', '11c', '11city', '11ftlong', '11hectare', '11m', '11minute', '11monthold', '11th', '11year', '11yearold', '11yearolds', '11yo', '11yr', '11yrold', '12', '120', '1200', '12000', '120000', '120000bpd', '120000km2', '12000yearold', '1200yearold', '1200yrold', '120bn', '120ft', '120metrelong', '121', '1213', '1214', '1215', '122', '122000', '122f', '123', '1238', '1238f', '124', '1240', '12400', '12460', '124687', '124billion', '124yearold', '125', '1250', '125000', '1255', '125billion', '125day', '125km', '125m', '125mph', '126', '127', '1270', '127bn', '127m', '1280', '12838', '1283f', '128am', '129', '12b', '12bil', '12bn', '12bore', '12country', '12gigawatt', '12hour', '12k', '12m', '12mhigh', '12million', '12month', '12nation', '12th', '12thcentury', '12thgraders', '12tn', '12yearold', '13', '130', '1300', '13000', '130000', '1300gmt', '1300yearold', '1300yrold', '130mph', '130pm', '131', '1310', '13144', '132', '133', '134', '1340', '1345', '134yearold', '135', '1350', '1351', '1358', '136', '1362', '137', '1370', '13703', '13794', '138', '13800yrold', '1389', '138bn', '139', '13900', '13bn', '13kmborder', '13m', '13metre', '13month', '13monthold', '13th', '13year', '13yearold', '13yearolds', '13yo', '13yrold', '14', '140', '1400', '14000', '140000', '1400s', '140bn', '140m', '141', '14100', '1417', '1418', '142', '1420', '1425hour', '143', '1433', '1434', '14358', '143b', '144', '1440', '1445', '145', '1450', '146', '1466a', '147', '148', '14811425', '1483', '1485', '148th', '149', '14a', '14b', '14bn', '14gb', '14m', '14point', '14th', '14tn', '14trillion', '14x', '14year', '14yearold', '14yearsold', '14yo', '14yr', '14yrold', '15', '150', '1500', '15000', '150000', '1500m', '1500mile', '1500th', '1500yrold', '1507lbs', '150ft', '150kwh', '150m', '150th', '150yrold', '151', '1516', '1517', '1518', '1520000', '1525', '1529', '153', '1530', '1536', '153bn', '154', '15431292', '1544', '155', '155m', '156', '1562', '1566', '157', '15700', '157m', '158', '158000', '15900', '15940', '15b', '15billion', '15blneuro', '15bn', '15cm', '15day', '15gbp', '15km', '15m', '15member', '15million', '15minute', '15th', '15thcentury', '15weekold', '15year', '15yearold', '15yearolds', '15yo', '15yrold', '16', '160', '1600', '16000', '160000', '1600022000', '1600x', '1600yearold', '161', '1611', '161641', '161774', '1621', '1623', '1625', '1629', '162billion', '163', '16300', '163000', '163m', '164', '1642', '165', '1650', '165000euro', '16517', '1652', '166', '1660', '16655', '1667', '166th', '167', '1677', '168', '169bn', '16b', '16brl', '16m', '16member', '16month', '16page', '16th', '16thcentury', '16year', '16yearold', '16yearolds', '16yrold', '17', '170', '1700', '17000', '170000', '17000ft', '17000km', '17000strong', '1707', '170bn', '170yearold', '172', '17200', '1729hour', '172b', '173', '173000', '17368', '17388', '174', '1745', '175', '175000', '1752', '175m', '176', '176ounce', '177', '1770', '1773', '1776', '178', '1780s', '1782', '1785', '1788', '1789', '179', '17b', '17bn', '17hour', '17m', '17th', '17th20th', '17thc', '17year', '17yearold', '17yearolds', '17yrold', '18', '180', '1800', '18000', '180000', '1800kg', '1800yearold', '18022014', '180m', '180mb', '181', '182', '1824', '1824yo', '182b', '182bn', '183', '183000', '1830s', '184', '1840s', '1842', '1843', '1845', '185', '1850', '185000', '1855', '185m', '185tn', '18600', '1861', '186mph', '1872', '1873', '187bn', '187m', '188', '1880', '1881', '1885', '1889', '189', '1896', '1897', '1898', '18981944', '18b', '18bn', '18cmlong', '18gig', '18m', '18month', '18monthold', '18th', '18thcentury', '18to26yearolds', '18week', '18yearold', '18yr', '19', '190', '1900', '19000', '190000', '1901', '1906', '190890', '191', '1911', '1912', '1915', '19151917', '19152009', '1917', '19171991', '1919', '192', '1920', '1920s', '1922', '1924', '1927', '1929', '192member', '193', '1930s', '1931', '1932', '1933', '1934', '1935', '1936', '1937', '1938', '1939', '193rd', '194', '1940', '1940s', '1941', '1942', '1943', '1944', '1945', '1946', '19462000', '1947', '1948', '19482012', '1949', '195', '1950', '19500', '195000', '195053', '1950s', '1950saccording', '1951', '1951million', '1952', '1953', '1954', '1955', '1956', '1957', '1959', '195m', '196', '1960', '196000', '1960s', '1960sstyle', '1961', '1962', '19621964', '1963', '1964', '196485', '1965', '1966', '1967', '1968', '1969', '197', '1970', '19701992', '19702010', '1970holy', '1970s', '1970sstyle', '1971', '1972', '1973', '1974', '1975', '197579', '1976', '1977', '1978', '1979', '19791981', '198', '1980', '1980s', '1981', '1982', '198283', '1983', '1984', '1985', '1986', '1987', '1988', '1989', '199', '1990', '199091', '1990s', '1991', '1992', '199295', '1993', '1994', '1995', '1996', '1997', '199798', '1998', '199899', '1998are', '1999', '19992008', '199x', '19hour', '19km', '19mile', '19th', '19thcentury', '19year', '19yearold', '19yo', '19yr', '1ab', '1am', '1b', '1billion', '1bn', '1c', '1day', '1h', '1km', '1m', '1million', '1one', '1pm', '1st', '1sthand', '1us', '20', '200', '2000', '20000', '200000', '2000000', '200000rmb', '200000yearold', '2000year', '2000yearold', '2000yrold', '2001', '200103', '2002', '2003', '200300', '2004', '200408', '20042007', '2005', '20052007', '2006', '200607', '20062007', '20062008', '2006more', '2007', '20072008', '2008', '200809', '20082009', '20082012', '20082013', '20089', '2009', '20092013', '2009s', '200am', '200fold', '200k', '200kg', '200kilogramme', '200km', '200lb', '200m', '200mile', '200million', '200mln', '200yearold', '201', '2010', '201011', '201015', '20102011now', '2010s', '2011', '2012', '20120417', '2012religious', '2013', '2014', '2015', '2015106', '201516', '2015without', '2016', '2017', '2018', '2019', '2020', '2021', '2022', '2023', '2024', '2025', '2026', '2028', '203', '2030', '2033', '2035', '204', '2040', '2041', '2042', '2045', '2049', '204bn', '204k', '204th', '2050', '2053', '206', '2060', '2066', '207', '208', '2080', '2089', '209th', '20bn', '20c', '20k', '20km', '20m', '20m14m', '20metre', '20metrehigh', '20million', '20percent', '20plus', '20s', '20story', '20th', '20thcentury', '20year', '20yearold', '20yearveteran', '20yr', '21', '210', '2100', '21000', '2100mile', '2100yrold', '210foot', '211', '2110', '2112', '2116million', '212', '212000', '213', '214', '215', '217', '217b', '218', '218m', '219', '21b', '21bn', '21day', '21m', '21month', '21st', '21stcentury', '21tn', '21ton', '21yearold', '22', '220', '2200', '22000', '220000', '22003000', '2200strong', '2200yearold', '220mayear', '220story', '221', '2214', '2226', '222m', '22322', '2234', '224', '224000', '224footlong', '225', '225000', '225bn', '225m', '226', '22600', '227', '228', '22870529', '2288', '229', '2296', '2299', '229m', '22bn', '22caliber', '22day', '22ft', '22k', '22m', '22milelong', '22nd', '22y', '22year', '22yearold', '23', '230', '2300', '23000', '230000', '2300km', '2300plus', '2304gmt', '230m', '231', '231000000', '233', '233000', '233m', '234', '23420', '23479', '235', '235000', '236000', '236mph'] 39900\n"
     ]
    }
   ],
   "source": [
    "from sklearn.feature_extraction.text import TfidfVectorizer\n",
    "sw = stop.ENGLISH_STOP_WORDS\n",
    "tfidf = TfidfVectorizer(stop_words = sw)\n",
    "tfidf.fit(df_concat['Top1'])\n",
    "print(tfidf.get_feature_names()[0:1000], len(tfidf.get_feature_names()))"
   ]
  },
  {
   "cell_type": "markdown",
   "metadata": {},
   "source": [
    "Create a dictionary in a tfidf vectorizer given our concatenated dataset."
   ]
  },
  {
   "cell_type": "code",
   "execution_count": 9,
   "metadata": {},
   "outputs": [
    {
     "data": {
      "text/plain": [
       "<1986x39900 sparse matrix of type '<class 'numpy.float64'>'\n",
       "\twith 489780 stored elements in Compressed Sparse Row format>"
      ]
     },
     "metadata": {},
     "output_type": "display_data"
    },
    {
     "name": "stdout",
     "output_type": "stream",
     "text": [
      "  (0, 39697)\t0.04792113397841143\n",
      "  (0, 39586)\t0.018635470668102998\n",
      "  (0, 39576)\t0.02309480578615759\n",
      "  (0, 39317)\t0.03510663510162514\n",
      "  (0, 39295)\t0.03222955083293025\n",
      "  (0, 39198)\t0.052627215370409826\n",
      "  (0, 38962)\t0.07472527781990451\n",
      "  (0, 38644)\t0.05458685467845757\n",
      "  (0, 38632)\t0.03848278340226787\n",
      "  (0, 38591)\t0.09580465919607202\n",
      "  (0, 38346)\t0.05874965900421731\n",
      "  (0, 38220)\t0.028760672420553638\n",
      "  (0, 38214)\t0.04589661170480536\n",
      "  (0, 38159)\t0.0641100318305066\n",
      "  (0, 37476)\t0.07190063735605241\n",
      "  (0, 37430)\t0.03528136571540746\n",
      "  (0, 37203)\t0.08424845497195356\n",
      "  (0, 36718)\t0.057575186629517626\n",
      "  (0, 36629)\t0.055135230165267744\n",
      "  (0, 36160)\t0.0639523086984654\n",
      "  (0, 35872)\t0.05955281974015128\n",
      "  (0, 35600)\t0.035923795876247486\n",
      "  (0, 35374)\t0.09332647229079422\n",
      "  (0, 34955)\t0.05458685467845757\n",
      "  (0, 34709)\t0.04748600345927687\n",
      "  :\t:\n",
      "  (1985, 3536)\t0.09229817581704898\n",
      "  (1985, 3108)\t0.0404703132373173\n",
      "  (1985, 3009)\t0.03580320373466395\n",
      "  (1985, 2796)\t0.06189488586264328\n",
      "  (1985, 2761)\t0.0358962838177813\n",
      "  (1985, 2741)\t0.04067953952226387\n",
      "  (1985, 2682)\t0.03134826296120104\n",
      "  (1985, 2657)\t0.03297614289352041\n",
      "  (1985, 2636)\t0.056458750354998026\n",
      "  (1985, 2625)\t0.0585343310057386\n",
      "  (1985, 2604)\t0.06483061249785507\n",
      "  (1985, 2459)\t0.05730356334057852\n",
      "  (1985, 2430)\t0.17512347953785942\n",
      "  (1985, 2066)\t0.06327076705385785\n",
      "  (1985, 1502)\t0.03850293267415596\n",
      "  (1985, 1221)\t0.03575694035290847\n",
      "  (1985, 1014)\t0.045380843247285696\n",
      "  (1985, 844)\t0.049805754470471315\n",
      "  (1985, 786)\t0.04437319401675597\n",
      "  (1985, 611)\t0.09229817581704898\n",
      "  (1985, 402)\t0.061470057640950385\n",
      "  (1985, 353)\t0.06376792670556695\n",
      "  (1985, 243)\t0.03647089909574698\n",
      "  (1985, 222)\t0.09229817581704898\n",
      "  (1985, 46)\t0.03428398959641283\n"
     ]
    }
   ],
   "source": [
    "features_concat = tfidf.transform(df_concat['Top1'])\n",
    "data_labels = df_concat['Label']\n",
    "display(features_concat)\n",
    "print(features_concat)"
   ]
  },
  {
   "cell_type": "markdown",
   "metadata": {},
   "source": [
    "We have converted the *whole* column of concatenated headlines into a single sparse matrix using the tfidf transformer built on the dictionary created earlier. At this point, I'm not sure if I should have created a sparse matrix for each row, or use the above method instead."
   ]
  },
  {
   "cell_type": "markdown",
   "metadata": {},
   "source": [
    "## Training/Test Sets"
   ]
  },
  {
   "cell_type": "code",
   "execution_count": 10,
   "metadata": {},
   "outputs": [
    {
     "name": "stderr",
     "output_type": "stream",
     "text": [
      "c:\\python\\installation\\lib\\site-packages\\sklearn\\model_selection\\_split.py:2026: FutureWarning: From version 0.21, test_size will always complement train_size unless both are specified.\n",
      "  FutureWarning)\n"
     ]
    },
    {
     "data": {
      "text/plain": [
       "<1588x39900 sparse matrix of type '<class 'numpy.float64'>'\n",
       "\twith 392171 stored elements in Compressed Sparse Row format>"
      ]
     },
     "metadata": {},
     "output_type": "display_data"
    },
    {
     "data": {
      "text/plain": [
       "<398x39900 sparse matrix of type '<class 'numpy.float64'>'\n",
       "\twith 97609 stored elements in Compressed Sparse Row format>"
      ]
     },
     "metadata": {},
     "output_type": "display_data"
    }
   ],
   "source": [
    "from sklearn.model_selection import train_test_split\n",
    "x_train, x_test, y_train, y_test = train_test_split(\n",
    "    features_concat,\n",
    "    data_labels,\n",
    "    train_size = 0.80,\n",
    "    random_state = 1234\n",
    ")\n",
    "display(x_train)\n",
    "display(x_test)"
   ]
  },
  {
   "cell_type": "markdown",
   "metadata": {},
   "source": [
    "Partition the whole concatenated dataset into seperate train/test sets."
   ]
  },
  {
   "cell_type": "markdown",
   "metadata": {},
   "source": [
    "## Begin training"
   ]
  },
  {
   "cell_type": "markdown",
   "metadata": {},
   "source": [
    "### Naive Bayes"
   ]
  },
  {
   "cell_type": "code",
   "execution_count": 11,
   "metadata": {},
   "outputs": [
    {
     "name": "stdout",
     "output_type": "stream",
     "text": [
      "46.98% || 2.33 seconds\n"
     ]
    }
   ],
   "source": [
    "from sklearn.naive_bayes import GaussianNB\n",
    "gnbc = GaussianNB()\n",
    "start = time.time()\n",
    "gnbc.fit(x_train.toarray(), y_train)\n",
    "stop = time.time()\n",
    "print(make_percent(gnbc.score(x_test.toarray(), y_test)), '|| ' + '%.2f'%(stop - start) + ' seconds')"
   ]
  },
  {
   "cell_type": "markdown",
   "metadata": {},
   "source": [
    "### Decision Tree"
   ]
  },
  {
   "cell_type": "code",
   "execution_count": 12,
   "metadata": {},
   "outputs": [
    {
     "name": "stdout",
     "output_type": "stream",
     "text": [
      "50.75% || 27.11 seconds\n"
     ]
    }
   ],
   "source": [
    "from sklearn.tree import DecisionTreeClassifier\n",
    "dtc = DecisionTreeClassifier()\n",
    "start = time.time()\n",
    "dtc.fit(x_train.toarray(), y_train)\n",
    "stop = time.time()\n",
    "print(make_percent(dtc.score(x_test.toarray(), y_test)), '|| ' + '%.2f'%(stop - start) + ' seconds')"
   ]
  },
  {
   "cell_type": "markdown",
   "metadata": {},
   "source": [
    "### Logistic Regression Classifier"
   ]
  },
  {
   "cell_type": "code",
   "execution_count": 13,
   "metadata": {},
   "outputs": [
    {
     "name": "stdout",
     "output_type": "stream",
     "text": [
      "51.01% || 0.63 seconds\n"
     ]
    }
   ],
   "source": [
    "from sklearn.linear_model import LogisticRegression\n",
    "lgc = LogisticRegression()\n",
    "start = time.time()\n",
    "lgc.fit(x_train.toarray(), y_train)\n",
    "stop = time.time()\n",
    "print(make_percent(lgc.score(x_test.toarray(), y_test)), '|| ' + '%.2f'%(stop - start) + ' seconds')"
   ]
  },
  {
   "cell_type": "markdown",
   "metadata": {},
   "source": [
    "These classifiers didn't do very well. They are rather basic though. Let's try some ensemble methods to see if the more complex algorithms can produce better results right off the bat."
   ]
  },
  {
   "cell_type": "markdown",
   "metadata": {},
   "source": [
    "## Ensemble Methods"
   ]
  },
  {
   "cell_type": "markdown",
   "metadata": {},
   "source": [
    "### Random Forest (Gini)"
   ]
  },
  {
   "cell_type": "code",
   "execution_count": 14,
   "metadata": {},
   "outputs": [
    {
     "name": "stderr",
     "output_type": "stream",
     "text": [
      "c:\\python\\installation\\lib\\site-packages\\sklearn\\ensemble\\weight_boosting.py:29: DeprecationWarning: numpy.core.umath_tests is an internal NumPy module and should not be imported. It will be removed in a future NumPy release.\n",
      "  from numpy.core.umath_tests import inner1d\n"
     ]
    },
    {
     "name": "stdout",
     "output_type": "stream",
     "text": [
      "53.02% || 15.80 seconds\n"
     ]
    }
   ],
   "source": [
    "from sklearn.ensemble import RandomForestClassifier\n",
    "rfc_gini = RandomForestClassifier(n_estimators = 100, criterion = 'gini')\n",
    "start = time.time()\n",
    "rfc_gini.fit(x_train.toarray(), y_train)\n",
    "stop = time.time()\n",
    "print(make_percent(rfc_gini.score(x_test.toarray(), y_test)), '|| ' + '%.2f'%(stop - start) + ' seconds')"
   ]
  },
  {
   "cell_type": "markdown",
   "metadata": {},
   "source": [
    "Not unexcpectedly, the ensemble method performed slightly better than the above simpler classification algorithms. Lets tweak some hyperparameters to see if that makes a difference."
   ]
  },
  {
   "cell_type": "code",
   "execution_count": 15,
   "metadata": {},
   "outputs": [
    {
     "name": "stdout",
     "output_type": "stream",
     "text": [
      "51.01% || 157.33 seconds\n"
     ]
    }
   ],
   "source": [
    "rfc_gini = RandomForestClassifier(n_estimators = 1000, criterion = 'gini')\n",
    "start = time.time()\n",
    "rfc_gini.fit(x_train.toarray(), y_train)\n",
    "stop = time.time()\n",
    "print(make_percent(rfc_gini.score(x_test.toarray(), y_test)), '|| ' + '%.2f'%(stop - start) + ' seconds')"
   ]
  },
  {
   "cell_type": "markdown",
   "metadata": {},
   "source": [
    "Increasing the estimators doesn't seem to result in a significant increase in accuracy. This doesn't even take into consideration that the algorithm took 2.5 minutes to run."
   ]
  },
  {
   "cell_type": "code",
   "execution_count": 16,
   "metadata": {},
   "outputs": [
    {
     "name": "stdout",
     "output_type": "stream",
     "text": [
      "53.77% || 1.49 seconds\n"
     ]
    }
   ],
   "source": [
    "rfc_gini = RandomForestClassifier(n_estimators = 100, criterion = 'gini', min_samples_leaf = 200)\n",
    "start = time.time()\n",
    "rfc_gini.fit(x_train.toarray(), y_train)\n",
    "stop = time.time()\n",
    "print(make_percent(rfc_gini.score(x_test.toarray(), y_test)), '|| ' + '%.2f'%(stop - start) + ' seconds')"
   ]
  },
  {
   "cell_type": "markdown",
   "metadata": {},
   "source": [
    "Increasing the min samples for a leaf node also doesnt significantly change the accuracy, however it does reduce runtime significantly. Lets try a different split criteria from gini."
   ]
  },
  {
   "cell_type": "markdown",
   "metadata": {},
   "source": [
    "### Random Forest (Information Gain)"
   ]
  },
  {
   "cell_type": "code",
   "execution_count": 17,
   "metadata": {},
   "outputs": [
    {
     "name": "stdout",
     "output_type": "stream",
     "text": [
      "47.49% || 19.20 seconds\n"
     ]
    }
   ],
   "source": [
    "rfc_info = RandomForestClassifier(n_estimators = 100, criterion = 'entropy')\n",
    "start = time.time()\n",
    "rfc_info.fit(x_train.toarray(), y_train)\n",
    "stop = time.time()\n",
    "print(make_percent(rfc_info.score(x_test.toarray(), y_test)), '|| ' + '%.2f'%(stop - start) + ' seconds')"
   ]
  },
  {
   "cell_type": "markdown",
   "metadata": {},
   "source": [
    "Using information gain with default paramters also doesn't significantly change the accuracy of the model generated. Next we'll try Extremely Randomized Trees from sklearn."
   ]
  },
  {
   "cell_type": "markdown",
   "metadata": {},
   "source": [
    "### Extremly Randomized Trees"
   ]
  },
  {
   "cell_type": "code",
   "execution_count": 18,
   "metadata": {},
   "outputs": [
    {
     "name": "stdout",
     "output_type": "stream",
     "text": [
      "53.02% || 51.43 seconds\n"
     ]
    }
   ],
   "source": [
    "from sklearn.ensemble import ExtraTreesClassifier\n",
    "etc = ExtraTreesClassifier(n_estimators = 100, criterion = 'gini')\n",
    "start = time.time()\n",
    "etc.fit(x_train.toarray(), y_train)\n",
    "stop = time.time()\n",
    "print(make_percent(etc.score(x_test.toarray(), y_test)), '|| ' + '%.2f'%(stop - start) + ' seconds')"
   ]
  },
  {
   "cell_type": "markdown",
   "metadata": {},
   "source": [
    "Again, not a significant increase in the accuracy of the model. Let's try one more ensemble method -- boosting."
   ]
  },
  {
   "cell_type": "markdown",
   "metadata": {},
   "source": [
    "### AdaBoost"
   ]
  },
  {
   "cell_type": "code",
   "execution_count": 19,
   "metadata": {},
   "outputs": [
    {
     "name": "stdout",
     "output_type": "stream",
     "text": [
      "51.51% || 95.99 seconds\n"
     ]
    }
   ],
   "source": [
    "from sklearn.ensemble import AdaBoostClassifier\n",
    "abc = AdaBoostClassifier()\n",
    "start = time.time()\n",
    "abc.fit(x_train.toarray(), y_train)\n",
    "stop = time.time()\n",
    "print(make_percent(abc.score(x_test.toarray(), y_test)), '|| ' + '%.2f'%(stop - start) + ' seconds')"
   ]
  },
  {
   "cell_type": "markdown",
   "metadata": {},
   "source": [
    "Not unsurprisingly, using AdaBoost doesn't affect the accuracy significantly. It seems that the way that the data was prepared is not sufficient in creating an accurate classifier for the DJIA based on the headlines."
   ]
  },
  {
   "cell_type": "markdown",
   "metadata": {},
   "source": [
    "# Improving Accuracy\n",
    "The next step is not to concatenate the headlines and, instead, weight each of the 25 headlines for each tuple accordingly to provide the classifiers with another source of important information to utilize when classifying the data."
   ]
  },
  {
   "cell_type": "markdown",
   "metadata": {},
   "source": [
    "## Data Preparation Mark II\n",
    "The initial data preparation involving concatenation of the headlines and then vectorization of the words of each tuple using tfidf was not sufficient in creating a more accurate classifier of the movement of the DJIA versus news headlines."
   ]
  },
  {
   "cell_type": "markdown",
   "metadata": {},
   "source": [
    "### Change TFIDF Frequency Structures\n",
    "Changing the min frequency and max frequency hyper parameters, and then running a coupld of our best classifiers from above could potentially remove extraneous information and imporove the accuracy of the predictions."
   ]
  },
  {
   "cell_type": "markdown",
   "metadata": {},
   "source": [
    "#### Reinitializing Variables"
   ]
  },
  {
   "cell_type": "code",
   "execution_count": 20,
   "metadata": {},
   "outputs": [
    {
     "data": {
      "text/html": [
       "<div>\n",
       "<style scoped>\n",
       "    .dataframe tbody tr th:only-of-type {\n",
       "        vertical-align: middle;\n",
       "    }\n",
       "\n",
       "    .dataframe tbody tr th {\n",
       "        vertical-align: top;\n",
       "    }\n",
       "\n",
       "    .dataframe thead th {\n",
       "        text-align: right;\n",
       "    }\n",
       "</style>\n",
       "<table border=\"1\" class=\"dataframe\">\n",
       "  <thead>\n",
       "    <tr style=\"text-align: right;\">\n",
       "      <th></th>\n",
       "      <th>Date</th>\n",
       "      <th>Label</th>\n",
       "      <th>Top1</th>\n",
       "    </tr>\n",
       "  </thead>\n",
       "  <tbody>\n",
       "    <tr>\n",
       "      <th>0</th>\n",
       "      <td>2008-08-08</td>\n",
       "      <td>0</td>\n",
       "      <td>georgia downs two russian warplanes as countries move to brink of war breaking musharraf to be impeached russia today columns of troops roll into south ossetia footage from fighting youtube russian tanks are moving towards the capital of south ossetia which has reportedly been completely destroyed by georgian artillery fire afghan children raped with impunity un official says  this is sick a three year old was raped and they do nothing 150 russian tanks have entered south ossetia whilst georgia shoots down two russian jets breaking georgia invades south ossetia russia warned it would intervene on sos side the enemy combatent trials are nothing but a sham salim haman has been sentenced to 5 12 years but will be kept longer anyway just because they feel like it georgian troops retreat from s osettain capital presumably leaving several hundred people killed video did the us prep georgia for war with russia rice gives green light for israel to attack iran says us has no veto over israeli military ops announcingclass action lawsuit on behalf of american public against the fbi sorussia and georgia are at war and the nyts top story is opening ceremonies of the olympics  what a fucking disgrace and yet further proof of the decline of journalism china tells bush to stay out of other countries affairs did world war iii start today georgia invades south ossetia  if russia gets involved will nato absorb georgia and unleash a full scale war alqaeda faces islamist backlash condoleezza rice the us would not act to prevent an israeli strike on iran israeli defense minister ehud barak israel is prepared for uncompromising victory in the case of military hostilities this is a busy day  the european union has approved new sanctions against iran in protest at its nuclear programme georgia will withdraw 1000 soldiers from iraq to help fight off russian forces in georgias breakaway region of south ossetia why the pentagon thinks attacking iran is a bad idea  us news &amp;amp world report caucasus in crisis georgia invades south ossetia indian shoe manufactory   and again in a series of you do not like your work visitors suffering from mental illnesses banned from olympics no help for mexicos kidnapping surge</td>\n",
       "    </tr>\n",
       "    <tr>\n",
       "      <th>1</th>\n",
       "      <td>2008-08-11</td>\n",
       "      <td>1</td>\n",
       "      <td>why wont america and nato help us if they wont help us now why did we help them in iraq bush puts foot down on georgian conflict jewish georgian minister thanks to israeli training were fending off russia  georgian army flees in disarray as russians advance  gori abandoned to russia without a shot fired olympic opening ceremony fireworks faked what were the mossad with fraudulent new zealand passports doing in iraq russia angered by israeli military sale to georgia an american citizen living in sossetia blames us and georgian leaders for the genocide of innocent people welcome to world war iv now in high definition georgias move a mistake of monumental proportions  russia presses deeper into georgia us says regime change is goal abhinav bindra wins first ever individual olympic gold medal for india  us ship heads for arctic to define territory drivers in a jerusalem taxi station threaten to quit rather than work for their new boss  an arab the french team is stunned by phelps and the 4x100m relay team israel and the us behind the georgian aggression do not believe tv neither russian nor georgian there are much more victims riots are still going on in montreal canada because police murdered a boy on saturday china to overtake us as largest manufacturer war in south ossetia pics israeli physicians group condemns state torture  russia has just beaten the united states over the head with peak oil perhaps the question about the georgia  russia conflict  russia is so much better at war so this is what its come to trading sex for food</td>\n",
       "    </tr>\n",
       "  </tbody>\n",
       "</table>\n",
       "</div>"
      ],
      "text/plain": [
       "         Date  Label  \\\n",
       "0  2008-08-08  0       \n",
       "1  2008-08-11  1       \n",
       "\n",
       "                                                                                                                                                                                                                                                                                                                                                                                                                                                                                                                                                                                                                                                                                                                                                                                                                                                                                                                                                                                                                                                                                                                                                                                                                                                                                                                                                                                                                                                                                                                                                                                                                                                                                                                                                                                                                                                                                                                                                                                                                                                                                                                                                                                                                                                                                                             Top1  \n",
       "0   georgia downs two russian warplanes as countries move to brink of war breaking musharraf to be impeached russia today columns of troops roll into south ossetia footage from fighting youtube russian tanks are moving towards the capital of south ossetia which has reportedly been completely destroyed by georgian artillery fire afghan children raped with impunity un official says  this is sick a three year old was raped and they do nothing 150 russian tanks have entered south ossetia whilst georgia shoots down two russian jets breaking georgia invades south ossetia russia warned it would intervene on sos side the enemy combatent trials are nothing but a sham salim haman has been sentenced to 5 12 years but will be kept longer anyway just because they feel like it georgian troops retreat from s osettain capital presumably leaving several hundred people killed video did the us prep georgia for war with russia rice gives green light for israel to attack iran says us has no veto over israeli military ops announcingclass action lawsuit on behalf of american public against the fbi sorussia and georgia are at war and the nyts top story is opening ceremonies of the olympics  what a fucking disgrace and yet further proof of the decline of journalism china tells bush to stay out of other countries affairs did world war iii start today georgia invades south ossetia  if russia gets involved will nato absorb georgia and unleash a full scale war alqaeda faces islamist backlash condoleezza rice the us would not act to prevent an israeli strike on iran israeli defense minister ehud barak israel is prepared for uncompromising victory in the case of military hostilities this is a busy day  the european union has approved new sanctions against iran in protest at its nuclear programme georgia will withdraw 1000 soldiers from iraq to help fight off russian forces in georgias breakaway region of south ossetia why the pentagon thinks attacking iran is a bad idea  us news &amp world report caucasus in crisis georgia invades south ossetia indian shoe manufactory   and again in a series of you do not like your work visitors suffering from mental illnesses banned from olympics no help for mexicos kidnapping surge  \n",
       "1   why wont america and nato help us if they wont help us now why did we help them in iraq bush puts foot down on georgian conflict jewish georgian minister thanks to israeli training were fending off russia  georgian army flees in disarray as russians advance  gori abandoned to russia without a shot fired olympic opening ceremony fireworks faked what were the mossad with fraudulent new zealand passports doing in iraq russia angered by israeli military sale to georgia an american citizen living in sossetia blames us and georgian leaders for the genocide of innocent people welcome to world war iv now in high definition georgias move a mistake of monumental proportions  russia presses deeper into georgia us says regime change is goal abhinav bindra wins first ever individual olympic gold medal for india  us ship heads for arctic to define territory drivers in a jerusalem taxi station threaten to quit rather than work for their new boss  an arab the french team is stunned by phelps and the 4x100m relay team israel and the us behind the georgian aggression do not believe tv neither russian nor georgian there are much more victims riots are still going on in montreal canada because police murdered a boy on saturday china to overtake us as largest manufacturer war in south ossetia pics israeli physicians group condemns state torture  russia has just beaten the united states over the head with peak oil perhaps the question about the georgia  russia conflict  russia is so much better at war so this is what its come to trading sex for food                                                                                                                                                                                                                                                                                                                                                                                                                                                                                                                                                                                                                                                                                              "
      ]
     },
     "execution_count": 20,
     "metadata": {},
     "output_type": "execute_result"
    }
   ],
   "source": [
    "df = df_concat\n",
    "df.iloc[0:2]"
   ]
  },
  {
   "cell_type": "markdown",
   "metadata": {},
   "source": [
    "#### Setting max_df and min_df\n",
    "By reducing the influence of words that occurr too often, over 50 perecent of the time, and words that occurr to infrequently, the bias that these removed words may have can be eliminated."
   ]
  },
  {
   "cell_type": "code",
   "execution_count": 22,
   "metadata": {},
   "outputs": [
    {
     "name": "stdout",
     "output_type": "stream",
     "text": [
      "['afghanistan', 'american', 'amp', 'army', 'arrested', 'attack', 'attacks', 'australia', 'australian', 'ban', 'bank', 'bbc', 'billion', 'british', 'calls', 'canada', 'canadian', 'children', 'chinese', 'city', 'countries', 'country', 'court', 'crisis', 'day', 'dead', 'death', 'drug', 'end', 'eu', 'europe', 'european', 'forces', 'france', 'french', 'gaza', 'german', 'germany', 'global', 'group', 'human', 'india', 'international', 'internet', 'iran', 'iraq', 'islamic', 'israeli', 'japan', 'just', 'killed', 'korea', 'law', 'leader', 'like', 'man', 'men', 'mexico', 'military', 'million', 'minister', 'news', 'north', 'nuclear', 'official', 'officials', 'oil', 'pakistan', 'palestinian', 'power', 'president', 'prime', 'protest', 'public', 'report', 'rights', 'russia', 'russian', 'said', 'saudi', 'say', 'security', 'set', 'south', 'state', 'states', 'stop', 'syria', 'syrian', 'thousands', 'time', 'troops', 'uk', 'united', 'use', 'video', 'war', 'west', 'woman', 'women', 'worlds', 'year'] 102\n"
     ]
    }
   ],
   "source": [
    "from sklearn.feature_extraction import stop_words as stop\n",
    "sw = stop.ENGLISH_STOP_WORDS\n",
    "tfidf = TfidfVectorizer(stop_words = sw, max_df = .50, min_df = .2)\n",
    "tfidf.fit(df_concat['Top1'])\n",
    "print(tfidf.get_feature_names()[0:1000], len(tfidf.get_feature_names()))"
   ]
  },
  {
   "cell_type": "code",
   "execution_count": 23,
   "metadata": {},
   "outputs": [
    {
     "data": {
      "text/plain": [
       "<1986x102 sparse matrix of type '<class 'numpy.float64'>'\n",
       "\twith 56897 stored elements in Compressed Sparse Row format>"
      ]
     },
     "metadata": {},
     "output_type": "display_data"
    },
    {
     "name": "stdout",
     "output_type": "stream",
     "text": [
      "  (0, 101)\t0.07569580540710538\n",
      "  (0, 96)\t0.3140104708716182\n",
      "  (0, 95)\t0.0942663161180859\n",
      "  (0, 91)\t0.18870910471123906\n",
      "  (0, 83)\t0.5412995517653361\n",
      "  (0, 77)\t0.369644380306084\n",
      "  (0, 76)\t0.26922219001937914\n",
      "  (0, 74)\t0.07634022903924191\n",
      "  (0, 73)\t0.09114181294020089\n",
      "  (0, 72)\t0.08971254961103152\n",
      "  (0, 64)\t0.09400286842874288\n",
      "  (0, 63)\t0.07927083753694732\n",
      "  (0, 61)\t0.07511482601478157\n",
      "  (0, 60)\t0.07176127373697831\n",
      "  (0, 58)\t0.1429506644750222\n",
      "  (0, 54)\t0.18458622650111228\n",
      "  (0, 50)\t0.0654456600861287\n",
      "  (0, 49)\t0.08194676420696917\n",
      "  (0, 47)\t0.21701970770540954\n",
      "  (0, 45)\t0.08924819121605444\n",
      "  (0, 44)\t0.29230483382749645\n",
      "  (0, 32)\t0.08679385454179811\n",
      "  (0, 31)\t0.08971254961103152\n",
      "  (0, 24)\t0.09453166140617489\n",
      "  (0, 23)\t0.09382827752584184\n",
      "  :\t:\n",
      "  (1985, 57)\t0.13901629124389447\n",
      "  (1985, 56)\t0.13811013233646277\n",
      "  (1985, 55)\t0.22169796203630235\n",
      "  (1985, 50)\t0.19248604769762137\n",
      "  (1985, 44)\t0.21492869852759777\n",
      "  (1985, 43)\t0.12924807869494\n",
      "  (1985, 41)\t0.11913531532151937\n",
      "  (1985, 40)\t0.23790946967897275\n",
      "  (1985, 33)\t0.2634016457022171\n",
      "  (1985, 31)\t0.1319294058672372\n",
      "  (1985, 27)\t0.13285350664421272\n",
      "  (1985, 26)\t0.10805081338844043\n",
      "  (1985, 25)\t0.1200473586547664\n",
      "  (1985, 23)\t0.13798190956784948\n",
      "  (1985, 22)\t0.10819842681614254\n",
      "  (1985, 20)\t0.13415044570892984\n",
      "  (1985, 19)\t0.13068396953560402\n",
      "  (1985, 14)\t0.1295760762324003\n",
      "  (1985, 13)\t0.1146254279181555\n",
      "  (1985, 12)\t0.1340312507335652\n",
      "  (1985, 10)\t0.12258944194370537\n",
      "  (1985, 6)\t0.14047160473743903\n",
      "  (1985, 4)\t0.13079601527244\n",
      "  (1985, 2)\t0.24990755528738068\n",
      "  (1985, 1)\t0.13621794600905088\n"
     ]
    }
   ],
   "source": [
    "features_concat = tfidf.transform(df_concat['Top1'])\n",
    "data_labels = df_concat['Label']\n",
    "display(features_concat)\n",
    "print(features_concat)"
   ]
  },
  {
   "cell_type": "markdown",
   "metadata": {},
   "source": [
    "## Training Mark II"
   ]
  },
  {
   "cell_type": "code",
   "execution_count": 24,
   "metadata": {},
   "outputs": [
    {
     "name": "stderr",
     "output_type": "stream",
     "text": [
      "c:\\python\\installation\\lib\\site-packages\\sklearn\\model_selection\\_split.py:2026: FutureWarning: From version 0.21, test_size will always complement train_size unless both are specified.\n",
      "  FutureWarning)\n"
     ]
    },
    {
     "data": {
      "text/plain": [
       "<1588x102 sparse matrix of type '<class 'numpy.float64'>'\n",
       "\twith 45622 stored elements in Compressed Sparse Row format>"
      ]
     },
     "metadata": {},
     "output_type": "display_data"
    },
    {
     "data": {
      "text/plain": [
       "<398x102 sparse matrix of type '<class 'numpy.float64'>'\n",
       "\twith 11275 stored elements in Compressed Sparse Row format>"
      ]
     },
     "metadata": {},
     "output_type": "display_data"
    }
   ],
   "source": [
    "x_train, x_test, y_train, y_test = train_test_split(\n",
    "    features_concat,\n",
    "    data_labels,\n",
    "    train_size = 0.80,\n",
    "    random_state = 1234\n",
    ")\n",
    "display(x_train)\n",
    "display(x_test)"
   ]
  },
  {
   "cell_type": "markdown",
   "metadata": {},
   "source": [
    "### Naive Bayes"
   ]
  },
  {
   "cell_type": "code",
   "execution_count": 25,
   "metadata": {},
   "outputs": [
    {
     "name": "stdout",
     "output_type": "stream",
     "text": [
      "49.25% || 0.01 seconds\n"
     ]
    }
   ],
   "source": [
    "from sklearn.naive_bayes import GaussianNB\n",
    "gnbc = GaussianNB()\n",
    "start = time.time()\n",
    "gnbc.fit(x_train.toarray(), y_train)\n",
    "stop = time.time()\n",
    "print(make_percent(gnbc.score(x_test.toarray(), y_test)), '|| ' + '%.2f'%(stop - start) + ' seconds')"
   ]
  },
  {
   "cell_type": "markdown",
   "metadata": {},
   "source": [
    "### Decision Tree"
   ]
  },
  {
   "cell_type": "code",
   "execution_count": 26,
   "metadata": {},
   "outputs": [
    {
     "name": "stdout",
     "output_type": "stream",
     "text": [
      "53.52% || 0.12 seconds\n"
     ]
    }
   ],
   "source": [
    "from sklearn.tree import DecisionTreeClassifier\n",
    "dtc = DecisionTreeClassifier()\n",
    "start = time.time()\n",
    "dtc.fit(x_train.toarray(), y_train)\n",
    "stop = time.time()\n",
    "print(make_percent(dtc.score(x_test.toarray(), y_test)), '|| ' + '%.2f'%(stop - start) + ' seconds')"
   ]
  },
  {
   "cell_type": "markdown",
   "metadata": {},
   "source": [
    "### Logistic Regression Classifier"
   ]
  },
  {
   "cell_type": "code",
   "execution_count": 27,
   "metadata": {},
   "outputs": [
    {
     "name": "stdout",
     "output_type": "stream",
     "text": [
      "47.74% || 0.01 seconds\n"
     ]
    }
   ],
   "source": [
    "from sklearn.linear_model import LogisticRegression\n",
    "lgc = LogisticRegression()\n",
    "start = time.time()\n",
    "lgc.fit(x_train.toarray(), y_train)\n",
    "stop = time.time()\n",
    "print(make_percent(lgc.score(x_test.toarray(), y_test)), '|| ' + '%.2f'%(stop - start) + ' seconds')"
   ]
  },
  {
   "cell_type": "markdown",
   "metadata": {},
   "source": [
    "## Ensemble Methods"
   ]
  },
  {
   "cell_type": "markdown",
   "metadata": {},
   "source": [
    "### Random Forest (Gini)"
   ]
  },
  {
   "cell_type": "code",
   "execution_count": 28,
   "metadata": {},
   "outputs": [
    {
     "name": "stdout",
     "output_type": "stream",
     "text": [
      "51.26% || 0.81 seconds\n"
     ]
    }
   ],
   "source": [
    "from sklearn.ensemble import RandomForestClassifier\n",
    "rfc_gini = RandomForestClassifier(n_estimators = 100, criterion = 'gini')\n",
    "start = time.time()\n",
    "rfc_gini.fit(x_train.toarray(), y_train)\n",
    "stop = time.time()\n",
    "print(make_percent(rfc_gini.score(x_test.toarray(), y_test)), '|| ' + '%.2f'%(stop - start) + ' seconds')"
   ]
  },
  {
   "cell_type": "code",
   "execution_count": 29,
   "metadata": {},
   "outputs": [
    {
     "name": "stdout",
     "output_type": "stream",
     "text": [
      "49.50% || 8.55 seconds\n"
     ]
    }
   ],
   "source": [
    "rfc_gini = RandomForestClassifier(n_estimators = 1000, criterion = 'gini')\n",
    "start = time.time()\n",
    "rfc_gini.fit(x_train.toarray(), y_train)\n",
    "stop = time.time()\n",
    "print(make_percent(rfc_gini.score(x_test.toarray(), y_test)), '|| ' + '%.2f'%(stop - start) + ' seconds')"
   ]
  },
  {
   "cell_type": "code",
   "execution_count": 30,
   "metadata": {},
   "outputs": [
    {
     "name": "stdout",
     "output_type": "stream",
     "text": [
      "53.52% || 0.26 seconds\n"
     ]
    }
   ],
   "source": [
    "rfc_gini = RandomForestClassifier(n_estimators = 100, criterion = 'gini', min_samples_leaf = 200)\n",
    "start = time.time()\n",
    "rfc_gini.fit(x_train.toarray(), y_train)\n",
    "stop = time.time()\n",
    "print(make_percent(rfc_gini.score(x_test.toarray(), y_test)), '|| ' + '%.2f'%(stop - start) + ' seconds')"
   ]
  },
  {
   "cell_type": "markdown",
   "metadata": {},
   "source": [
    "### Random Forest (Information Gain)"
   ]
  },
  {
   "cell_type": "code",
   "execution_count": 31,
   "metadata": {},
   "outputs": [
    {
     "name": "stdout",
     "output_type": "stream",
     "text": [
      "48.99% || 1.48 seconds\n"
     ]
    }
   ],
   "source": [
    "rfc_info = RandomForestClassifier(n_estimators = 100, criterion = 'entropy')\n",
    "start = time.time()\n",
    "rfc_info.fit(x_train.toarray(), y_train)\n",
    "stop = time.time()\n",
    "print(make_percent(rfc_info.score(x_test.toarray(), y_test)), '|| ' + '%.2f'%(stop - start) + ' seconds')"
   ]
  },
  {
   "cell_type": "markdown",
   "metadata": {},
   "source": [
    "### Extremly Randomized Trees"
   ]
  },
  {
   "cell_type": "code",
   "execution_count": 32,
   "metadata": {},
   "outputs": [
    {
     "name": "stdout",
     "output_type": "stream",
     "text": [
      "51.01% || 0.59 seconds\n"
     ]
    }
   ],
   "source": [
    "from sklearn.ensemble import ExtraTreesClassifier\n",
    "etc = ExtraTreesClassifier(n_estimators = 100, criterion = 'gini')\n",
    "start = time.time()\n",
    "etc.fit(x_train.toarray(), y_train)\n",
    "stop = time.time()\n",
    "print(make_percent(etc.score(x_test.toarray(), y_test)), '|| ' + '%.2f'%(stop - start) + ' seconds')"
   ]
  },
  {
   "cell_type": "markdown",
   "metadata": {},
   "source": [
    "### AdaBoost"
   ]
  },
  {
   "cell_type": "code",
   "execution_count": 33,
   "metadata": {},
   "outputs": [
    {
     "name": "stdout",
     "output_type": "stream",
     "text": [
      "52.01% || 0.52 seconds\n"
     ]
    }
   ],
   "source": [
    "from sklearn.ensemble import AdaBoostClassifier\n",
    "abc = AdaBoostClassifier()\n",
    "start = time.time()\n",
    "abc.fit(x_train.toarray(), y_train)\n",
    "stop = time.time()\n",
    "print(make_percent(abc.score(x_test.toarray(), y_test)), '|| ' + '%.2f'%(stop - start) + ' seconds')"
   ]
  },
  {
   "cell_type": "markdown",
   "metadata": {},
   "source": [
    "It appears that removing the overly frequent or infrequent words from the dictionary and tdidf matrix had none, or even a detrimental, effect to the accuracy of the classifiers used in relation to the first training and baseline accuracies obtained"
   ]
  },
  {
   "cell_type": "markdown",
   "metadata": {},
   "source": [
    "## Data Preperation Mark III\n",
    "Neither the original use of TFIDF nor the changed hyperparamter TFIDF from Mark II affected the general accuracies"
   ]
  },
  {
   "cell_type": "markdown",
   "metadata": {},
   "source": [
    "### Weight each headline\n",
    "\n",
    "Weighting each headline in some fashion, like the 1st headline gets its frequencies multiplied by 25, 2nd gets 24, 3rd gets 23, etc., may lead to an increase in accuracy as it potentially more closely models the interpretation of headline rankings by humans. This closer interpetation may prove useful as humans buying and selling stocks ultimately decide the movement of the DJIA.\n",
    "\n",
    "Also, because the weights are being created outside of tfidf, a count vectorizer will be used instead. TFIDF is meant to be a means of weighting word frequencies already -- artificially increasing the word frequencies may not be beneficial for improving accuracies."
   ]
  },
  {
   "cell_type": "markdown",
   "metadata": {},
   "source": [
    "#### Reinitialize Data"
   ]
  },
  {
   "cell_type": "code",
   "execution_count": 34,
   "metadata": {},
   "outputs": [],
   "source": [
    "df = df_no_nan\n",
    "columns = df.iloc[:, 2:]\n",
    "concat_column = df_concat_str_columns_weighted(df, columns)\n",
    "concat_column = pd.DataFrame(concat_column)"
   ]
  },
  {
   "cell_type": "markdown",
   "metadata": {},
   "source": [
    "#### Concat Columns Weighted\n",
    "As described above, if the headline is in column 'Top 1', it will be concatenated 25 times to weight the words contained in that headline more in the TFIDF matrix. If the headline is in column 'Top 2', it will be concatenated 24 times, and so on."
   ]
  },
  {
   "cell_type": "code",
   "execution_count": 35,
   "metadata": {},
   "outputs": [
    {
     "data": {
      "text/plain": [
       "' georgia downs two russian warplanes as countries move to brink of war georgia downs two russian warplanes as countries move to brink of war georgia downs two russian warplanes as countries move to brink of war georgia downs two russian warplanes as countries move to brink of war georgia downs two russian warplanes as countries move to brink of war georgia downs two russian warplanes as countries move to brink of war georgia downs two russian warplanes as countries move to brink of war georgia downs two russian warplanes as countries move to brink of war georgia downs two russian warplanes as countries move to brink of war georgia downs two russian warplanes as countries move to brink of war georgia downs two russian warplanes as countries move to brink of war georgia downs two russian warplanes as countries move to brink of war georgia downs two russian warplanes as countries move to brink of war georgia downs two russian warplanes as countries move to brink of war georgia downs two russian warplanes as countries move to brink of war georgia downs two russian warplanes as countries move to brink of war georgia downs two russian warplanes as countries move to brink of war georgia downs two russian warplanes as countries move to brink of war georgia downs two russian warplanes as countries move to brink of war georgia downs two russian warplanes as countries move to brink of war georgia downs two russian warplanes as countries move to brink of war georgia downs two russian warplanes as countries move to brink of war georgia downs two russian warplanes as countries move to brink of war georgia downs two russian warplanes as countries move to brink of war georgia downs two russian warplanes as countries move to brink of war breaking musharraf to be impeached breaking musharraf to be impeached breaking musharraf to be impeached breaking musharraf to be impeached breaking musharraf to be impeached breaking musharraf to be impeached breaking musharraf to be impeached breaking musharraf to be impeached breaking musharraf to be impeached breaking musharraf to be impeached breaking musharraf to be impeached breaking musharraf to be impeached breaking musharraf to be impeached breaking musharraf to be impeached breaking musharraf to be impeached breaking musharraf to be impeached breaking musharraf to be impeached breaking musharraf to be impeached breaking musharraf to be impeached breaking musharraf to be impeached breaking musharraf to be impeached breaking musharraf to be impeached breaking musharraf to be impeached breaking musharraf to be impeached russia today columns of troops roll into south ossetia footage from fighting youtube russia today columns of troops roll into south ossetia footage from fighting youtube russia today columns of troops roll into south ossetia footage from fighting youtube russia today columns of troops roll into south ossetia footage from fighting youtube russia today columns of troops roll into south ossetia footage from fighting youtube russia today columns of troops roll into south ossetia footage from fighting youtube russia today columns of troops roll into south ossetia footage from fighting youtube russia today columns of troops roll into south ossetia footage from fighting youtube russia today columns of troops roll into south ossetia footage from fighting youtube russia today columns of troops roll into south ossetia footage from fighting youtube russia today columns of troops roll into south ossetia footage from fighting youtube russia today columns of troops roll into south ossetia footage from fighting youtube russia today columns of troops roll into south ossetia footage from fighting youtube russia today columns of troops roll into south ossetia footage from fighting youtube russia today columns of troops roll into south ossetia footage from fighting youtube russia today columns of troops roll into south ossetia footage from fighting youtube russia today columns of troops roll into south ossetia footage from fighting youtube russia today columns of troops roll into south ossetia footage from fighting youtube russia today columns of troops roll into south ossetia footage from fighting youtube russia today columns of troops roll into south ossetia footage from fighting youtube russia today columns of troops roll into south ossetia footage from fighting youtube russia today columns of troops roll into south ossetia footage from fighting youtube russia today columns of troops roll into south ossetia footage from fighting youtube russian tanks are moving towards the capital of south ossetia which has reportedly been completely destroyed by georgian artillery fire russian tanks are moving towards the capital of south ossetia which has reportedly been completely destroyed by georgian artillery fire russian tanks are moving towards the capital of south ossetia which has reportedly been completely destroyed by georgian artillery fire russian tanks are moving towards the capital of south ossetia which has reportedly been completely destroyed by georgian artillery fire russian tanks are moving towards the capital of south ossetia which has reportedly been completely destroyed by georgian artillery fire russian tanks are moving towards the capital of south ossetia which has reportedly been completely destroyed by georgian artillery fire russian tanks are moving towards the capital of south ossetia which has reportedly been completely destroyed by georgian artillery fire russian tanks are moving towards the capital of south ossetia which has reportedly been completely destroyed by georgian artillery fire russian tanks are moving towards the capital of south ossetia which has reportedly been completely destroyed by georgian artillery fire russian tanks are moving towards the capital of south ossetia which has reportedly been completely destroyed by georgian artillery fire russian tanks are moving towards the capital of south ossetia which has reportedly been completely destroyed by georgian artillery fire russian tanks are moving towards the capital of south ossetia which has reportedly been completely destroyed by georgian artillery fire russian tanks are moving towards the capital of south ossetia which has reportedly been completely destroyed by georgian artillery fire russian tanks are moving towards the capital of south ossetia which has reportedly been completely destroyed by georgian artillery fire russian tanks are moving towards the capital of south ossetia which has reportedly been completely destroyed by georgian artillery fire russian tanks are moving towards the capital of south ossetia which has reportedly been completely destroyed by georgian artillery fire russian tanks are moving towards the capital of south ossetia which has reportedly been completely destroyed by georgian artillery fire russian tanks are moving towards the capital of south ossetia which has reportedly been completely destroyed by georgian artillery fire russian tanks are moving towards the capital of south ossetia which has reportedly been completely destroyed by georgian artillery fire russian tanks are moving towards the capital of south ossetia which has reportedly been completely destroyed by georgian artillery fire russian tanks are moving towards the capital of south ossetia which has reportedly been completely destroyed by georgian artillery fire russian tanks are moving towards the capital of south ossetia which has reportedly been completely destroyed by georgian artillery fire afghan children raped with impunity un official says  this is sick a three year old was raped and they do nothing afghan children raped with impunity un official says  this is sick a three year old was raped and they do nothing afghan children raped with impunity un official says  this is sick a three year old was raped and they do nothing afghan children raped with impunity un official says  this is sick a three year old was raped and they do nothing afghan children raped with impunity un official says  this is sick a three year old was raped and they do nothing afghan children raped with impunity un official says  this is sick a three year old was raped and they do nothing afghan children raped with impunity un official says  this is sick a three year old was raped and they do nothing afghan children raped with impunity un official says  this is sick a three year old was raped and they do nothing afghan children raped with impunity un official says  this is sick a three year old was raped and they do nothing afghan children raped with impunity un official says  this is sick a three year old was raped and they do nothing afghan children raped with impunity un official says  this is sick a three year old was raped and they do nothing afghan children raped with impunity un official says  this is sick a three year old was raped and they do nothing afghan children raped with impunity un official says  this is sick a three year old was raped and they do nothing afghan children raped with impunity un official says  this is sick a three year old was raped and they do nothing afghan children raped with impunity un official says  this is sick a three year old was raped and they do nothing afghan children raped with impunity un official says  this is sick a three year old was raped and they do nothing afghan children raped with impunity un official says  this is sick a three year old was raped and they do nothing afghan children raped with impunity un official says  this is sick a three year old was raped and they do nothing afghan children raped with impunity un official says  this is sick a three year old was raped and they do nothing afghan children raped with impunity un official says  this is sick a three year old was raped and they do nothing afghan children raped with impunity un official says  this is sick a three year old was raped and they do nothing 150 russian tanks have entered south ossetia whilst georgia shoots down two russian jets 150 russian tanks have entered south ossetia whilst georgia shoots down two russian jets 150 russian tanks have entered south ossetia whilst georgia shoots down two russian jets 150 russian tanks have entered south ossetia whilst georgia shoots down two russian jets 150 russian tanks have entered south ossetia whilst georgia shoots down two russian jets 150 russian tanks have entered south ossetia whilst georgia shoots down two russian jets 150 russian tanks have entered south ossetia whilst georgia shoots down two russian jets 150 russian tanks have entered south ossetia whilst georgia shoots down two russian jets 150 russian tanks have entered south ossetia whilst georgia shoots down two russian jets 150 russian tanks have entered south ossetia whilst georgia shoots down two russian jets 150 russian tanks have entered south ossetia whilst georgia shoots down two russian jets 150 russian tanks have entered south ossetia whilst georgia shoots down two russian jets 150 russian tanks have entered south ossetia whilst georgia shoots down two russian jets 150 russian tanks have entered south ossetia whilst georgia shoots down two russian jets 150 russian tanks have entered south ossetia whilst georgia shoots down two russian jets 150 russian tanks have entered south ossetia whilst georgia shoots down two russian jets 150 russian tanks have entered south ossetia whilst georgia shoots down two russian jets 150 russian tanks have entered south ossetia whilst georgia shoots down two russian jets 150 russian tanks have entered south ossetia whilst georgia shoots down two russian jets 150 russian tanks have entered south ossetia whilst georgia shoots down two russian jets breaking georgia invades south ossetia russia warned it would intervene on sos side breaking georgia invades south ossetia russia warned it would intervene on sos side breaking georgia invades south ossetia russia warned it would intervene on sos side breaking georgia invades south ossetia russia warned it would intervene on sos side breaking georgia invades south ossetia russia warned it would intervene on sos side breaking georgia invades south ossetia russia warned it would intervene on sos side breaking georgia invades south ossetia russia warned it would intervene on sos side breaking georgia invades south ossetia russia warned it would intervene on sos side breaking georgia invades south ossetia russia warned it would intervene on sos side breaking georgia invades south ossetia russia warned it would intervene on sos side breaking georgia invades south ossetia russia warned it would intervene on sos side breaking georgia invades south ossetia russia warned it would intervene on sos side breaking georgia invades south ossetia russia warned it would intervene on sos side breaking georgia invades south ossetia russia warned it would intervene on sos side breaking georgia invades south ossetia russia warned it would intervene on sos side breaking georgia invades south ossetia russia warned it would intervene on sos side breaking georgia invades south ossetia russia warned it would intervene on sos side breaking georgia invades south ossetia russia warned it would intervene on sos side breaking georgia invades south ossetia russia warned it would intervene on sos side the enemy combatent trials are nothing but a sham salim haman has been sentenced to 5 12 years but will be kept longer anyway just because they feel like it the enemy combatent trials are nothing but a sham salim haman has been sentenced to 5 12 years but will be kept longer anyway just because they feel like it the enemy combatent trials are nothing but a sham salim haman has been sentenced to 5 12 years but will be kept longer anyway just because they feel like it the enemy combatent trials are nothing but a sham salim haman has been sentenced to 5 12 years but will be kept longer anyway just because they feel like it the enemy combatent trials are nothing but a sham salim haman has been sentenced to 5 12 years but will be kept longer anyway just because they feel like it the enemy combatent trials are nothing but a sham salim haman has been sentenced to 5 12 years but will be kept longer anyway just because they feel like it the enemy combatent trials are nothing but a sham salim haman has been sentenced to 5 12 years but will be kept longer anyway just because they feel like it the enemy combatent trials are nothing but a sham salim haman has been sentenced to 5 12 years but will be kept longer anyway just because they feel like it the enemy combatent trials are nothing but a sham salim haman has been sentenced to 5 12 years but will be kept longer anyway just because they feel like it the enemy combatent trials are nothing but a sham salim haman has been sentenced to 5 12 years but will be kept longer anyway just because they feel like it the enemy combatent trials are nothing but a sham salim haman has been sentenced to 5 12 years but will be kept longer anyway just because they feel like it the enemy combatent trials are nothing but a sham salim haman has been sentenced to 5 12 years but will be kept longer anyway just because they feel like it the enemy combatent trials are nothing but a sham salim haman has been sentenced to 5 12 years but will be kept longer anyway just because they feel like it the enemy combatent trials are nothing but a sham salim haman has been sentenced to 5 12 years but will be kept longer anyway just because they feel like it the enemy combatent trials are nothing but a sham salim haman has been sentenced to 5 12 years but will be kept longer anyway just because they feel like it the enemy combatent trials are nothing but a sham salim haman has been sentenced to 5 12 years but will be kept longer anyway just because they feel like it the enemy combatent trials are nothing but a sham salim haman has been sentenced to 5 12 years but will be kept longer anyway just because they feel like it the enemy combatent trials are nothing but a sham salim haman has been sentenced to 5 12 years but will be kept longer anyway just because they feel like it georgian troops retreat from s osettain capital presumably leaving several hundred people killed video georgian troops retreat from s osettain capital presumably leaving several hundred people killed video georgian troops retreat from s osettain capital presumably leaving several hundred people killed video georgian troops retreat from s osettain capital presumably leaving several hundred people killed video georgian troops retreat from s osettain capital presumably leaving several hundred people killed video georgian troops retreat from s osettain capital presumably leaving several hundred people killed video georgian troops retreat from s osettain capital presumably leaving several hundred people killed video georgian troops retreat from s osettain capital presumably leaving several hundred people killed video georgian troops retreat from s osettain capital presumably leaving several hundred people killed video georgian troops retreat from s osettain capital presumably leaving several hundred people killed video georgian troops retreat from s osettain capital presumably leaving several hundred people killed video georgian troops retreat from s osettain capital presumably leaving several hundred people killed video georgian troops retreat from s osettain capital presumably leaving several hundred people killed video georgian troops retreat from s osettain capital presumably leaving several hundred people killed video georgian troops retreat from s osettain capital presumably leaving several hundred people killed video georgian troops retreat from s osettain capital presumably leaving several hundred people killed video georgian troops retreat from s osettain capital presumably leaving several hundred people killed video did the us prep georgia for war with russia did the us prep georgia for war with russia did the us prep georgia for war with russia did the us prep georgia for war with russia did the us prep georgia for war with russia did the us prep georgia for war with russia did the us prep georgia for war with russia did the us prep georgia for war with russia did the us prep georgia for war with russia did the us prep georgia for war with russia did the us prep georgia for war with russia did the us prep georgia for war with russia did the us prep georgia for war with russia did the us prep georgia for war with russia did the us prep georgia for war with russia did the us prep georgia for war with russia rice gives green light for israel to attack iran says us has no veto over israeli military ops rice gives green light for israel to attack iran says us has no veto over israeli military ops rice gives green light for israel to attack iran says us has no veto over israeli military ops rice gives green light for israel to attack iran says us has no veto over israeli military ops rice gives green light for israel to attack iran says us has no veto over israeli military ops rice gives green light for israel to attack iran says us has no veto over israeli military ops rice gives green light for israel to attack iran says us has no veto over israeli military ops rice gives green light for israel to attack iran says us has no veto over israeli military ops rice gives green light for israel to attack iran says us has no veto over israeli military ops rice gives green light for israel to attack iran says us has no veto over israeli military ops rice gives green light for israel to attack iran says us has no veto over israeli military ops rice gives green light for israel to attack iran says us has no veto over israeli military ops rice gives green light for israel to attack iran says us has no veto over israeli military ops rice gives green light for israel to attack iran says us has no veto over israeli military ops rice gives green light for israel to attack iran says us has no veto over israeli military ops announcingclass action lawsuit on behalf of american public against the fbi announcingclass action lawsuit on behalf of american public against the fbi announcingclass action lawsuit on behalf of american public against the fbi announcingclass action lawsuit on behalf of american public against the fbi announcingclass action lawsuit on behalf of american public against the fbi announcingclass action lawsuit on behalf of american public against the fbi announcingclass action lawsuit on behalf of american public against the fbi announcingclass action lawsuit on behalf of american public against the fbi announcingclass action lawsuit on behalf of american public against the fbi announcingclass action lawsuit on behalf of american public against the fbi announcingclass action lawsuit on behalf of american public against the fbi announcingclass action lawsuit on behalf of american public against the fbi announcingclass action lawsuit on behalf of american public against the fbi announcingclass action lawsuit on behalf of american public against the fbi sorussia and georgia are at war and the nyts top story is opening ceremonies of the olympics  what a fucking disgrace and yet further proof of the decline of journalism sorussia and georgia are at war and the nyts top story is opening ceremonies of the olympics  what a fucking disgrace and yet further proof of the decline of journalism sorussia and georgia are at war and the nyts top story is opening ceremonies of the olympics  what a fucking disgrace and yet further proof of the decline of journalism sorussia and georgia are at war and the nyts top story is opening ceremonies of the olympics  what a fucking disgrace and yet further proof of the decline of journalism sorussia and georgia are at war and the nyts top story is opening ceremonies of the olympics  what a fucking disgrace and yet further proof of the decline of journalism sorussia and georgia are at war and the nyts top story is opening ceremonies of the olympics  what a fucking disgrace and yet further proof of the decline of journalism sorussia and georgia are at war and the nyts top story is opening ceremonies of the olympics  what a fucking disgrace and yet further proof of the decline of journalism sorussia and georgia are at war and the nyts top story is opening ceremonies of the olympics  what a fucking disgrace and yet further proof of the decline of journalism sorussia and georgia are at war and the nyts top story is opening ceremonies of the olympics  what a fucking disgrace and yet further proof of the decline of journalism sorussia and georgia are at war and the nyts top story is opening ceremonies of the olympics  what a fucking disgrace and yet further proof of the decline of journalism sorussia and georgia are at war and the nyts top story is opening ceremonies of the olympics  what a fucking disgrace and yet further proof of the decline of journalism sorussia and georgia are at war and the nyts top story is opening ceremonies of the olympics  what a fucking disgrace and yet further proof of the decline of journalism sorussia and georgia are at war and the nyts top story is opening ceremonies of the olympics  what a fucking disgrace and yet further proof of the decline of journalism china tells bush to stay out of other countries affairs china tells bush to stay out of other countries affairs china tells bush to stay out of other countries affairs china tells bush to stay out of other countries affairs china tells bush to stay out of other countries affairs china tells bush to stay out of other countries affairs china tells bush to stay out of other countries affairs china tells bush to stay out of other countries affairs china tells bush to stay out of other countries affairs china tells bush to stay out of other countries affairs china tells bush to stay out of other countries affairs china tells bush to stay out of other countries affairs did world war iii start today did world war iii start today did world war iii start today did world war iii start today did world war iii start today did world war iii start today did world war iii start today did world war iii start today did world war iii start today did world war iii start today did world war iii start today georgia invades south ossetia  if russia gets involved will nato absorb georgia and unleash a full scale war georgia invades south ossetia  if russia gets involved will nato absorb georgia and unleash a full scale war georgia invades south ossetia  if russia gets involved will nato absorb georgia and unleash a full scale war georgia invades south ossetia  if russia gets involved will nato absorb georgia and unleash a full scale war georgia invades south ossetia  if russia gets involved will nato absorb georgia and unleash a full scale war georgia invades south ossetia  if russia gets involved will nato absorb georgia and unleash a full scale war georgia invades south ossetia  if russia gets involved will nato absorb georgia and unleash a full scale war georgia invades south ossetia  if russia gets involved will nato absorb georgia and unleash a full scale war georgia invades south ossetia  if russia gets involved will nato absorb georgia and unleash a full scale war georgia invades south ossetia  if russia gets involved will nato absorb georgia and unleash a full scale war alqaeda faces islamist backlash alqaeda faces islamist backlash alqaeda faces islamist backlash alqaeda faces islamist backlash alqaeda faces islamist backlash alqaeda faces islamist backlash alqaeda faces islamist backlash alqaeda faces islamist backlash alqaeda faces islamist backlash condoleezza rice the us would not act to prevent an israeli strike on iran israeli defense minister ehud barak israel is prepared for uncompromising victory in the case of military hostilities condoleezza rice the us would not act to prevent an israeli strike on iran israeli defense minister ehud barak israel is prepared for uncompromising victory in the case of military hostilities condoleezza rice the us would not act to prevent an israeli strike on iran israeli defense minister ehud barak israel is prepared for uncompromising victory in the case of military hostilities condoleezza rice the us would not act to prevent an israeli strike on iran israeli defense minister ehud barak israel is prepared for uncompromising victory in the case of military hostilities condoleezza rice the us would not act to prevent an israeli strike on iran israeli defense minister ehud barak israel is prepared for uncompromising victory in the case of military hostilities condoleezza rice the us would not act to prevent an israeli strike on iran israeli defense minister ehud barak israel is prepared for uncompromising victory in the case of military hostilities condoleezza rice the us would not act to prevent an israeli strike on iran israeli defense minister ehud barak israel is prepared for uncompromising victory in the case of military hostilities condoleezza rice the us would not act to prevent an israeli strike on iran israeli defense minister ehud barak israel is prepared for uncompromising victory in the case of military hostilities this is a busy day  the european union has approved new sanctions against iran in protest at its nuclear programme this is a busy day  the european union has approved new sanctions against iran in protest at its nuclear programme this is a busy day  the european union has approved new sanctions against iran in protest at its nuclear programme this is a busy day  the european union has approved new sanctions against iran in protest at its nuclear programme this is a busy day  the european union has approved new sanctions against iran in protest at its nuclear programme this is a busy day  the european union has approved new sanctions against iran in protest at its nuclear programme this is a busy day  the european union has approved new sanctions against iran in protest at its nuclear programme georgia will withdraw 1000 soldiers from iraq to help fight off russian forces in georgias breakaway region of south ossetia georgia will withdraw 1000 soldiers from iraq to help fight off russian forces in georgias breakaway region of south ossetia georgia will withdraw 1000 soldiers from iraq to help fight off russian forces in georgias breakaway region of south ossetia georgia will withdraw 1000 soldiers from iraq to help fight off russian forces in georgias breakaway region of south ossetia georgia will withdraw 1000 soldiers from iraq to help fight off russian forces in georgias breakaway region of south ossetia georgia will withdraw 1000 soldiers from iraq to help fight off russian forces in georgias breakaway region of south ossetia why the pentagon thinks attacking iran is a bad idea  us news &amp world report why the pentagon thinks attacking iran is a bad idea  us news &amp world report why the pentagon thinks attacking iran is a bad idea  us news &amp world report why the pentagon thinks attacking iran is a bad idea  us news &amp world report why the pentagon thinks attacking iran is a bad idea  us news &amp world report caucasus in crisis georgia invades south ossetia caucasus in crisis georgia invades south ossetia caucasus in crisis georgia invades south ossetia caucasus in crisis georgia invades south ossetia indian shoe manufactory   and again in a series of you do not like your work indian shoe manufactory   and again in a series of you do not like your work indian shoe manufactory   and again in a series of you do not like your work visitors suffering from mental illnesses banned from olympics visitors suffering from mental illnesses banned from olympics no help for mexicos kidnapping surge'"
      ]
     },
     "execution_count": 35,
     "metadata": {},
     "output_type": "execute_result"
    }
   ],
   "source": [
    "df_no_col = df.drop(labels = columns.columns, axis = 1)\n",
    "df_concat = pd.concat([df_no_col, concat_column], axis = 1)\n",
    "df_concat.iloc[0][2]"
   ]
  },
  {
   "cell_type": "markdown",
   "metadata": {},
   "source": [
    "#### Re-Vectorize Data"
   ]
  },
  {
   "cell_type": "code",
   "execution_count": 37,
   "metadata": {},
   "outputs": [
    {
     "name": "stdout",
     "output_type": "stream",
     "text": [
      "['000', '0001', '001', '003', '004', '005', '006', '007', '0077', '00s', '01', '011', '014', '014ckwh', '017', '02', '0200', '021hour', '022', '0220', '0221', '025', '03', '030', '035017', '04', '05', '050', '05eurgb', '06', '060', '062', '068as', '07', '07232014', '075', '07baku1268', '07pc', '08', '089m', '08baku671', '09', '0900', '0930', '0935', '10', '100', '1000', '10000', '100000', '1000000', '1000000000', '100000man', '100000person', '100000th', '10000s', '10000strong', '10000yearold', '10001500', '1000km', '1000megawatt', '1000per', '1000s', '1000strong', '1000x', '1000year', '1000yearold', '100200', '1004', '1004am', '1006', '100abarrel', '100apack', '100billion', '100bn', '100day', '100ds', '100fold', '100foot', '100ft', '100k', '100km', '100m', '100mil', '100million', '100mstretch', '100mw', '100page', '100s', '100th', '100x', '100year', '100yearold', '101', '1011', '1012', '1017', '101st', '102', '1020', '102000', '1021', '10262010', '102day', '102yearold', '103', '1030', '10300', '1035', '1038', '104', '104000', '1044', '104m', '105', '1050', '1051pm', '1054', '1055', '105carat', '105k', '106', '1060', '106000', '1061c', '107', '10700', '107000', '108', '108000', '1083', '108f', '108meter', '109', '1094', '10barrel', '10bars', '10billion', '10bn', '10cm', '10day', '10fold', '10foot', '10gw', '10in', '10k', '10kg', '10km', '10kmdown', '10m', '10million', '10month', '10s', '10sided', '10story', '10th', '10thcentury', '10weeksold', '10x', '10year', '10yearold', '10yr', '10yrs', '11', '110', '1100', '11000', '110000', '11000yearold', '1100am', '1100room', '1105', '110bn', '110m', '110th', '110year', '111', '11109', '1111', '111111', '1117', '1118', '1119', '111bn', '111yearold', '112', '1120', '112000', '1122000', '1125', '11253', '1126', '1127', '11277', '113', '1130', '1135', '113bn', '114', '11417', '1142', '1143', '1147', '114billion', '114yrold', '115', '1150', '11500', '115000', '11500l', '11506', '1155', '11571', '115bn', '115m', '116', '116bn', '117', '1172013', '11721000000000000', '1175', '117k', '117yearold', '119', '119000', '1193', '119th', '11b', '11bn', '11c', '11city', '11ftlong', '11hectare', '11m', '11minute', '11monthold', '11th', '11year', '11yearold', '11yearolds', '11yo', '11yr', '11yrold', '12', '120', '1200', '12000', '120000', '120000bpd', '120000km2', '12000yearold', '1200yearold', '1200yrold', '120bn', '120ft', '120metrelong', '121', '1213', '1214', '1215', '122', '122000', '122f', '123', '1238', '1238f', '124', '1240', '12400', '12460', '124687', '124billion', '124yearold', '125', '1250', '125000', '1255', '125billion', '125day', '125km', '125m', '125mph', '126', '127', '1270', '127bn', '127m', '1280', '12838', '1283f', '128am', '129', '12b', '12bil', '12bn', '12bore', '12country', '12gigawatt', '12hour', '12k', '12m', '12mhigh', '12million', '12month', '12nation', '12th', '12thcentury', '12thgraders', '12tn', '12yearold', '13', '130', '1300', '13000', '130000', '1300gmt', '1300yearold', '1300yrold', '130mph', '130pm', '131', '1310', '13144', '132', '133', '134', '1340', '1345', '134yearold', '135', '1350', '1351', '1358', '136', '1362', '137', '1370', '13703', '13794', '138', '13800yrold', '1389', '138bn', '139', '13900', '13bn', '13kmborder', '13m', '13metre', '13month', '13monthold', '13th', '13year', '13yearold', '13yearolds', '13yo', '13yrold', '14', '140', '1400', '14000', '140000', '1400s', '140bn', '140m', '141', '14100', '1417', '1418', '142', '1420', '1425hour', '143', '1433', '1434', '14358', '143b', '144', '1440', '1445', '145', '1450', '146', '1466a', '147', '148', '14811425', '1483', '1485', '148th', '149', '14a', '14b', '14bn', '14gb', '14m', '14point', '14th', '14tn', '14trillion', '14x', '14year', '14yearold', '14yearsold', '14yo', '14yr', '14yrold', '15', '150', '1500', '15000', '150000', '1500m', '1500mile', '1500th', '1500yrold', '1507lbs', '150ft', '150kwh', '150m', '150th', '150yrold', '151', '1516', '1517', '1518', '1520000', '1525', '1529', '153', '1530', '1536', '153bn', '154', '15431292', '1544', '155', '155m', '156', '1562', '1566', '157', '15700', '157m', '158', '158000', '15900', '15940', '15b', '15billion', '15blneuro', '15bn', '15cm', '15day', '15gbp', '15km', '15m', '15member', '15million', '15minute', '15th', '15thcentury', '15weekold', '15year', '15yearold', '15yearolds', '15yo', '15yrold', '16', '160', '1600', '16000', '160000', '1600022000', '1600x', '1600yearold', '161', '1611', '161641', '161774', '1621', '1623', '1625', '1629', '162billion', '163', '16300', '163000', '163m', '164', '1642', '165', '1650', '165000euro', '16517', '1652', '166', '1660', '16655', '1667', '166th', '167', '1677', '168', '169bn', '16b', '16brl', '16m', '16member', '16month', '16page', '16th', '16thcentury', '16year', '16yearold', '16yearolds', '16yrold', '17', '170', '1700', '17000', '170000', '17000ft', '17000km', '17000strong', '1707', '170bn', '170yearold', '172', '17200', '1729hour', '172b', '173', '173000', '17368', '17388', '174', '1745', '175', '175000', '1752', '175m', '176', '176ounce', '177', '1770', '1773', '1776', '178', '1780s', '1782', '1785', '1788', '1789', '179', '17b', '17bn', '17hour', '17m', '17th', '17th20th', '17thc', '17year', '17yearold', '17yearolds', '17yrold', '18', '180', '1800', '18000', '180000', '1800kg', '1800yearold', '18022014', '180m', '180mb', '181', '182', '1824', '1824yo', '182b', '182bn', '183', '183000', '1830s', '184', '1840s', '1842', '1843', '1845', '185', '1850', '185000', '1855', '185m', '185tn', '18600', '1861', '186mph', '1872', '1873', '187bn', '187m', '188', '1880', '1881', '1885', '1889', '189', '1896', '1897', '1898', '18981944', '18b', '18bn', '18cmlong', '18gig', '18m', '18month', '18monthold', '18th', '18thcentury', '18to26yearolds', '18week', '18yearold', '18yr', '19', '190', '1900', '19000', '190000', '1901', '1906', '190890', '191', '1911', '1912', '1915', '19151917', '19152009', '1917', '19171991', '1919', '192', '1920', '1920s', '1922', '1924', '1927', '1929', '192member', '193', '1930s', '1931', '1932', '1933', '1934', '1935', '1936', '1937', '1938', '1939', '193rd', '194', '1940', '1940s', '1941', '1942', '1943', '1944', '1945', '1946', '19462000', '1947', '1948', '19482012', '1949', '195', '1950', '19500', '195000', '195053', '1950s', '1950saccording', '1951', '1951million', '1952', '1953', '1954', '1955', '1956', '1957', '1959', '195m', '196', '1960', '196000', '1960s', '1960sstyle', '1961', '1962', '19621964', '1963', '1964', '196485', '1965', '1966', '1967', '1968', '1969', '197', '1970', '19701992', '19702010', '1970holy', '1970s', '1970sstyle', '1971', '1972', '1973', '1974', '1975', '197579', '1976', '1977', '1978', '1979', '19791981', '198', '1980', '1980s', '1981', '1982', '198283', '1983', '1984', '1985', '1986', '1987', '1988', '1989', '199', '1990', '199091', '1990s', '1991', '1992', '199295', '1993', '1994', '1995', '1996', '1997', '199798', '1998', '199899', '1998are', '1999', '19992008', '199x', '19hour', '19km', '19mile', '19th', '19thcentury', '19year', '19yearold', '19yo', '19yr', '1ab', '1am', '1b', '1billion', '1bn', '1c', '1day', '1h', '1km', '1m', '1million', '1one', '1pm', '1st', '1sthand', '1us', '20', '200', '2000', '20000', '200000', '2000000', '200000rmb', '200000yearold', '2000year', '2000yearold', '2000yrold', '2001', '200103', '2002', '2003', '200300', '2004', '200408', '20042007', '2005', '20052007', '2006', '200607', '20062007', '20062008', '2006more', '2007', '20072008', '2008', '200809', '20082009', '20082012', '20082013', '20089', '2009', '20092013', '2009s', '200am', '200fold', '200k', '200kg', '200kilogramme', '200km', '200lb', '200m', '200mile', '200million', '200mln', '200yearold', '201', '2010', '201011', '201015', '20102011now', '2010s', '2011', '2012', '20120417', '2012religious', '2013', '2014', '2015', '2015106', '201516', '2015without', '2016', '2017', '2018', '2019', '2020', '2021', '2022', '2023', '2024', '2025', '2026', '2028', '203', '2030', '2033', '2035', '204', '2040', '2041', '2042', '2045', '2049', '204bn', '204k', '204th', '2050', '2053', '206', '2060', '2066', '207', '208', '2080', '2089', '209th', '20bn', '20c', '20k', '20km', '20m', '20m14m', '20metre', '20metrehigh', '20million', '20percent', '20plus', '20s', '20story', '20th', '20thcentury', '20year', '20yearold', '20yearveteran', '20yr', '21', '210', '2100', '21000', '2100mile', '2100yrold', '210foot', '211', '2110', '2112', '2116million', '212', '212000', '213', '214', '215', '217', '217b', '218', '218m', '219', '21b', '21bn', '21day', '21m', '21month', '21st', '21stcentury', '21tn', '21ton', '21yearold', '22', '220', '2200', '22000', '220000', '22003000', '2200strong', '2200yearold', '220mayear', '220story', '221', '2214', '2226', '222m', '22322', '2234', '224', '224000', '224footlong', '225', '225000', '225bn', '225m', '226', '22600', '227', '228', '22870529', '2288', '229', '2296', '2299', '229m', '22bn', '22caliber', '22day', '22ft', '22k', '22m', '22milelong', '22nd', '22y', '22year', '22yearold', '23', '230', '2300', '23000', '230000', '2300km', '2300plus', '2304gmt', '230m', '231', '231000000', '233', '233000', '233m', '234', '23420', '23479', '235', '235000', '236000', '236mph'] 39900\n"
     ]
    }
   ],
   "source": [
    "from sklearn.feature_extraction import stop_words as stop\n",
    "from sklearn.feature_extraction.text import CountVectorizer\n",
    "sw = stop.ENGLISH_STOP_WORDS\n",
    "cv = CountVectorizer(stop_words = sw)\n",
    "cv.fit(df_concat['Top1'])\n",
    "print(cv.get_feature_names()[0:1000], len(cv.get_feature_names()))"
   ]
  },
  {
   "cell_type": "code",
   "execution_count": 38,
   "metadata": {},
   "outputs": [
    {
     "data": {
      "text/plain": [
       "<1986x39900 sparse matrix of type '<class 'numpy.int64'>'\n",
       "\twith 489780 stored elements in Compressed Sparse Row format>"
      ]
     },
     "metadata": {},
     "output_type": "display_data"
    },
    {
     "name": "stdout",
     "output_type": "stream",
     "text": [
      "  (0, 47)\t6\n",
      "  (0, 243)\t18\n",
      "  (0, 408)\t20\n",
      "  (0, 2572)\t10\n",
      "  (0, 2741)\t8\n",
      "  (0, 2746)\t14\n",
      "  (0, 2952)\t12\n",
      "  (0, 2983)\t21\n",
      "  (0, 3490)\t9\n",
      "  (0, 3604)\t14\n",
      "  (0, 3652)\t5\n",
      "  (0, 3848)\t14\n",
      "  (0, 4323)\t7\n",
      "  (0, 4546)\t22\n",
      "  (0, 4798)\t15\n",
      "  (0, 4803)\t5\n",
      "  (0, 5134)\t9\n",
      "  (0, 5159)\t5\n",
      "  (0, 5340)\t2\n",
      "  (0, 5357)\t8\n",
      "  (0, 5671)\t14\n",
      "  (0, 6745)\t6\n",
      "  (0, 6750)\t43\n",
      "  (0, 6850)\t25\n",
      "  (0, 7165)\t12\n",
      "  :\t:\n",
      "  (1985, 37750)\t21\n",
      "  (1985, 37755)\t5\n",
      "  (1985, 37832)\t18\n",
      "  (1985, 37914)\t10\n",
      "  (1985, 38030)\t3\n",
      "  (1985, 38094)\t3\n",
      "  (1985, 38220)\t15\n",
      "  (1985, 38234)\t6\n",
      "  (1985, 38297)\t15\n",
      "  (1985, 38314)\t15\n",
      "  (1985, 38517)\t25\n",
      "  (1985, 38589)\t18\n",
      "  (1985, 38591)\t5\n",
      "  (1985, 38660)\t13\n",
      "  (1985, 38816)\t1\n",
      "  (1985, 38836)\t15\n",
      "  (1985, 39023)\t15\n",
      "  (1985, 39150)\t18\n",
      "  (1985, 39247)\t25\n",
      "  (1985, 39258)\t28\n",
      "  (1985, 39300)\t2\n",
      "  (1985, 39317)\t9\n",
      "  (1985, 39356)\t10\n",
      "  (1985, 39414)\t15\n",
      "  (1985, 39586)\t25\n"
     ]
    }
   ],
   "source": [
    "features_concat = cv.transform(df_concat['Top1'])\n",
    "data_labels = df_concat['Label']\n",
    "display(features_concat)\n",
    "print(features_concat)"
   ]
  },
  {
   "cell_type": "markdown",
   "metadata": {},
   "source": [
    "## Training Mark III "
   ]
  },
  {
   "cell_type": "code",
   "execution_count": 39,
   "metadata": {},
   "outputs": [
    {
     "name": "stderr",
     "output_type": "stream",
     "text": [
      "c:\\python\\installation\\lib\\site-packages\\sklearn\\model_selection\\_split.py:2026: FutureWarning: From version 0.21, test_size will always complement train_size unless both are specified.\n",
      "  FutureWarning)\n"
     ]
    },
    {
     "data": {
      "text/plain": [
       "<1588x39900 sparse matrix of type '<class 'numpy.int64'>'\n",
       "\twith 392171 stored elements in Compressed Sparse Row format>"
      ]
     },
     "metadata": {},
     "output_type": "display_data"
    },
    {
     "data": {
      "text/plain": [
       "<398x39900 sparse matrix of type '<class 'numpy.int64'>'\n",
       "\twith 97609 stored elements in Compressed Sparse Row format>"
      ]
     },
     "metadata": {},
     "output_type": "display_data"
    }
   ],
   "source": [
    "x_train, x_test, y_train, y_test = train_test_split(\n",
    "    features_concat,\n",
    "    data_labels,\n",
    "    train_size = 0.80,\n",
    "    random_state = 1234\n",
    ")\n",
    "display(x_train)\n",
    "display(x_test)"
   ]
  },
  {
   "cell_type": "markdown",
   "metadata": {},
   "source": [
    "### Naive Bayes"
   ]
  },
  {
   "cell_type": "code",
   "execution_count": 40,
   "metadata": {},
   "outputs": [
    {
     "name": "stdout",
     "output_type": "stream",
     "text": [
      "50.00% || 2.23 seconds\n"
     ]
    }
   ],
   "source": [
    "from sklearn.naive_bayes import GaussianNB\n",
    "gnbc = GaussianNB()\n",
    "start = time.time()\n",
    "gnbc.fit(x_train.toarray(), y_train)\n",
    "stop = time.time()\n",
    "print(make_percent(gnbc.score(x_test.toarray(), y_test)), '|| ' + '%.2f'%(stop - start) + ' seconds')"
   ]
  },
  {
   "cell_type": "markdown",
   "metadata": {},
   "source": [
    "### Decision Tree"
   ]
  },
  {
   "cell_type": "code",
   "execution_count": 41,
   "metadata": {},
   "outputs": [
    {
     "name": "stdout",
     "output_type": "stream",
     "text": [
      "52.01% || 37.02 seconds\n"
     ]
    }
   ],
   "source": [
    "from sklearn.tree import DecisionTreeClassifier\n",
    "dtc = DecisionTreeClassifier()\n",
    "start = time.time()\n",
    "dtc.fit(x_train.toarray(), y_train)\n",
    "stop = time.time()\n",
    "print(make_percent(dtc.score(x_test.toarray(), y_test)), '|| ' + '%.2f'%(stop - start) + ' seconds')"
   ]
  },
  {
   "cell_type": "markdown",
   "metadata": {},
   "source": [
    "### Logistic Regression Classifier"
   ]
  },
  {
   "cell_type": "code",
   "execution_count": 42,
   "metadata": {},
   "outputs": [
    {
     "name": "stdout",
     "output_type": "stream",
     "text": [
      "48.99% || 1.18 seconds\n"
     ]
    }
   ],
   "source": [
    "from sklearn.linear_model import LogisticRegression\n",
    "lgc = LogisticRegression()\n",
    "start = time.time()\n",
    "lgc.fit(x_train.toarray(), y_train)\n",
    "stop = time.time()\n",
    "print(make_percent(lgc.score(x_test.toarray(), y_test)), '|| ' + '%.2f'%(stop - start) + ' seconds')"
   ]
  },
  {
   "cell_type": "markdown",
   "metadata": {},
   "source": [
    "## Ensemble Methods"
   ]
  },
  {
   "cell_type": "markdown",
   "metadata": {},
   "source": [
    "### Random Forest (Gini)"
   ]
  },
  {
   "cell_type": "code",
   "execution_count": 43,
   "metadata": {},
   "outputs": [
    {
     "name": "stdout",
     "output_type": "stream",
     "text": [
      "51.76% || 16.64 seconds\n"
     ]
    }
   ],
   "source": [
    "from sklearn.ensemble import RandomForestClassifier\n",
    "rfc_gini = RandomForestClassifier(n_estimators = 100, criterion = 'gini')\n",
    "start = time.time()\n",
    "rfc_gini.fit(x_train.toarray(), y_train)\n",
    "stop = time.time()\n",
    "print(make_percent(rfc_gini.score(x_test.toarray(), y_test)), '|| ' + '%.2f'%(stop - start) + ' seconds')"
   ]
  },
  {
   "cell_type": "code",
   "execution_count": 44,
   "metadata": {},
   "outputs": [
    {
     "name": "stdout",
     "output_type": "stream",
     "text": [
      "53.02% || 176.53 seconds\n"
     ]
    }
   ],
   "source": [
    "rfc_gini = RandomForestClassifier(n_estimators = 1000, criterion = 'gini')\n",
    "start = time.time()\n",
    "rfc_gini.fit(x_train.toarray(), y_train)\n",
    "stop = time.time()\n",
    "print(make_percent(rfc_gini.score(x_test.toarray(), y_test)), '|| ' + '%.2f'%(stop - start) + ' seconds')"
   ]
  },
  {
   "cell_type": "code",
   "execution_count": 45,
   "metadata": {},
   "outputs": [
    {
     "name": "stdout",
     "output_type": "stream",
     "text": [
      "53.77% || 1.44 seconds\n"
     ]
    }
   ],
   "source": [
    "rfc_gini = RandomForestClassifier(n_estimators = 100, criterion = 'gini', min_samples_leaf = 200)\n",
    "start = time.time()\n",
    "rfc_gini.fit(x_train.toarray(), y_train)\n",
    "stop = time.time()\n",
    "print(make_percent(rfc_gini.score(x_test.toarray(), y_test)), '|| ' + '%.2f'%(stop - start) + ' seconds')"
   ]
  },
  {
   "cell_type": "markdown",
   "metadata": {},
   "source": [
    "### Random Forest (Information Gain)"
   ]
  },
  {
   "cell_type": "code",
   "execution_count": 46,
   "metadata": {},
   "outputs": [
    {
     "name": "stdout",
     "output_type": "stream",
     "text": [
      "50.00% || 21.65 seconds\n"
     ]
    }
   ],
   "source": [
    "rfc_info = RandomForestClassifier(n_estimators = 100, criterion = 'entropy')\n",
    "start = time.time()\n",
    "rfc_info.fit(x_train.toarray(), y_train)\n",
    "stop = time.time()\n",
    "print(make_percent(rfc_info.score(x_test.toarray(), y_test)), '|| ' + '%.2f'%(stop - start) + ' seconds')"
   ]
  },
  {
   "cell_type": "markdown",
   "metadata": {},
   "source": [
    "### Extremly Randomized Trees"
   ]
  },
  {
   "cell_type": "code",
   "execution_count": 47,
   "metadata": {},
   "outputs": [
    {
     "name": "stdout",
     "output_type": "stream",
     "text": [
      "53.77% || 55.92 seconds\n"
     ]
    }
   ],
   "source": [
    "from sklearn.ensemble import ExtraTreesClassifier\n",
    "etc = ExtraTreesClassifier(n_estimators = 100, criterion = 'gini')\n",
    "start = time.time()\n",
    "etc.fit(x_train.toarray(), y_train)\n",
    "stop = time.time()\n",
    "print(make_percent(etc.score(x_test.toarray(), y_test)), '|| ' + '%.2f'%(stop - start) + ' seconds')"
   ]
  },
  {
   "cell_type": "markdown",
   "metadata": {},
   "source": [
    "### AdaBoost"
   ]
  },
  {
   "cell_type": "code",
   "execution_count": 48,
   "metadata": {},
   "outputs": [
    {
     "name": "stdout",
     "output_type": "stream",
     "text": [
      "50.25% || 95.98 seconds\n"
     ]
    }
   ],
   "source": [
    "from sklearn.ensemble import AdaBoostClassifier\n",
    "abc = AdaBoostClassifier()\n",
    "start = time.time()\n",
    "abc.fit(x_train.toarray(), y_train)\n",
    "stop = time.time()\n",
    "print(make_percent(abc.score(x_test.toarray(), y_test)), '|| ' + '%.2f'%(stop - start) + ' seconds')"
   ]
  },
  {
   "cell_type": "markdown",
   "metadata": {},
   "source": [
    "## Conclusions"
   ]
  },
  {
   "cell_type": "markdown",
   "metadata": {},
   "source": [
    "For all the different methods attempted here to extract meaningful accuracies out of the data, there were no really \"good\" accuracies achieved. The best accuracies from the random seed of \"1234\" for the train and test splitting were around 53 - 55 %. Nothing to meaningful, and probably within the standard deviation of the ability of the models.\n",
    "\n",
    "\n",
    "If I had more time, I would do two major things to attempt to improve accuracies:\n",
    "1. Take the previous x days of headlines and somehow incorporate them into the vectorization process, maybe weight them less than the current day. The idea is that previous days news also affects the current days stock movements, and this is an attempt to structure the data for the classification algorithms around that idea.\n",
    "\n",
    "2. Take the previous x days of DJIA movements, finding y days where it consecutively went up/stayed the same (label 1), or went down (label 0). Depending on the overall analysis of the last x days movements, then somehow combine that \"momentum\" into the prediction of our labels with the headlines.\n",
    "\n",
    "Both of these ideas seem like they may be promising in not only increasing the amount of information that the algorithms have to work with, but also more closely modeling the real world information available to humans -- who ultimately decide how the markets change and what news gets posted."
   ]
  },
  {
   "cell_type": "code",
   "execution_count": null,
   "metadata": {},
   "outputs": [],
   "source": []
  }
 ],
 "metadata": {
  "kernelspec": {
   "display_name": "Python 3",
   "language": "python",
   "name": "python3"
  },
  "language_info": {
   "codemirror_mode": {
    "name": "ipython",
    "version": 3
   },
   "file_extension": ".py",
   "mimetype": "text/x-python",
   "name": "python",
   "nbconvert_exporter": "python",
   "pygments_lexer": "ipython3",
   "version": "3.7.0"
  }
 },
 "nbformat": 4,
 "nbformat_minor": 2
}
